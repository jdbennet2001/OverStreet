{
 "metadata": {
  "language_info": {
   "codemirror_mode": {
    "name": "ipython",
    "version": 3
   },
   "file_extension": ".py",
   "mimetype": "text/x-python",
   "name": "python",
   "nbconvert_exporter": "python",
   "pygments_lexer": "ipython3",
   "version": "3.9.0"
  },
  "orig_nbformat": 2,
  "kernelspec": {
   "name": "python390jvsc74a57bd0aee8b7b246df8f9039afb4144a1f6fd8d2ca17a180786b69acc140d282b71a49",
   "display_name": "Python 3.9.0 64-bit"
  }
 },
 "nbformat": 4,
 "nbformat_minor": 2,
 "cells": [
  {
   "cell_type": "code",
   "execution_count": 10,
   "metadata": {},
   "outputs": [],
   "source": [
    "import numpy as np\n",
    "import pandas as pd\n",
    "import matplotlib as plt\n",
    "import json\n",
    "import warnings\n",
    "\n",
    "# Data manipulation\n",
    "from sklearn.model_selection import train_test_split\n",
    "import sklearn.metrics as metrics \n",
    "\n",
    "# Modeling code\n",
    "from xgboost.sklearn import XGBClassifier #XGBoost\n",
    "\n",
    "\n",
    "# Over Sampling code isn't really needed for our data set, but included as a reference for fraud detection\n",
    "from imblearn.over_sampling import SMOTE"
   ]
  },
  {
   "cell_type": "code",
   "execution_count": 12,
   "metadata": {},
   "outputs": [],
   "source": [
    "'''\n",
    "Gotta fix this, but ignore for now:\n",
    "\n",
    "<ipython-input-9-098e2ff8e245>:2: SettingWithCopyWarning: \n",
    "A value is trying to be set on a copy of a slice from a DataFrame.\n",
    "Try using .loc[row_indexer,col_indexer] = value instead\n",
    "\n",
    "See the caveats in the documentation: https://pandas.pydata.org/pandas-docs/stable/user_guide/indexing.html#returning-a-view-versus-a-copy\n",
    "  samples['DC'] = np.where(df['publisher'] == 'DC Comics', True, False)\n",
    "<ipython-input-9-098e2ff8e245>:3: SettingWithCopyWarning: \n",
    "A value is trying to be set on a copy of a slice from a DataFrame.\n",
    "Try using .loc[row_indexer,col_indexer] = value instead\n",
    "'''\n",
    "\n",
    "from pandas.core.common import SettingWithCopyWarning\n",
    "warnings.simplefilter(action=\"ignore\", category=SettingWithCopyWarning)"
   ]
  },
  {
   "cell_type": "code",
   "execution_count": 13,
   "metadata": {},
   "outputs": [
    {
     "output_type": "stream",
     "name": "stdout",
     "text": [
      "<class 'pandas.core.frame.DataFrame'>\nRangeIndex: 103086 entries, 0 to 103085\nData columns (total 21 columns):\n #   Column                  Non-Null Count   Dtype  \n---  ------                  --------------   -----  \n 0   comic                   103086 non-null  object \n 1   location                103086 non-null  object \n 2   pages                   103086 non-null  int64  \n 3   match                   103086 non-null  bool   \n 4   distance                103086 non-null  float64\n 5   id                      103086 non-null  int64  \n 6   hash                    103086 non-null  object \n 7   name                    73329 non-null   object \n 8   description             84187 non-null   object \n 9   image                   103086 non-null  object \n 10  month                   103086 non-null  object \n 11  issue_number            103083 non-null  object \n 12  url                     103086 non-null  object \n 13  cover_date              103086 non-null  object \n 14  volume_id               103083 non-null  float64\n 15  volume_name             103083 non-null  object \n 16  publisher               103083 non-null  object \n 17  volume_start            103083 non-null  float64\n 18  volume_image            103083 non-null  object \n 19  volume_url              103083 non-null  object \n 20  volume_count_of_issues  103083 non-null  float64\ndtypes: bool(1), float64(4), int64(2), object(14)\nmemory usage: 15.8+ MB\n"
     ]
    }
   ],
   "source": [
    "df = pd.read_json('samples.json')\n",
    "# TODO, Avoid the traditional df.head(10) here because the columns are too long\n",
    "df.info()"
   ]
  },
  {
   "cell_type": "code",
   "execution_count": 5,
   "metadata": {},
   "outputs": [
    {
     "output_type": "execute_result",
     "data": {
      "text/plain": [
       "                                               comic  pages  distance  \\\n",
       "0  New X-Men #127 (2002-08-01) - Of Living and Dy...     21    0.6250   \n",
       "1  New X-Men #127 (2002-08-01) - Of Living and Dy...     21    0.6250   \n",
       "2  New X-Men #127 (2002-08-01) - Of Living and Dy...     21    0.5625   \n",
       "3  New X-Men #127 (2002-08-01) - Of Living and Dy...     21    0.5625   \n",
       "4  New X-Men #127 (2002-08-01) - Of Living and Dy...     21    0.1875   \n",
       "5  Stormwatch #001 (2011-11-27) - The Dark Side P...     36    0.6250   \n",
       "6  Stormwatch #001 (2011-11-27) - The Dark Side P...     36    0.6250   \n",
       "7  Stormwatch #001 (2011-11-27) - The Dark Side P...     36    0.6250   \n",
       "8  Stormwatch #001 (2011-11-27) - The Dark Side P...     36    0.5000   \n",
       "9  Stormwatch #001 (2011-11-27) - The Dark Side P...     36    0.0625   \n",
       "\n",
       "   volume_count_of_issues issue_number          publisher  match  \n",
       "0                    28.0            8      Panini Comics  False  \n",
       "1                    25.0           13       Cómics Forum  False  \n",
       "2                    12.0          111      Panini Comics  False  \n",
       "3                   365.0          153      Panini Comics  False  \n",
       "4                    43.0          127             Marvel   True  \n",
       "5                     1.0            1               UDON  False  \n",
       "6                     4.0            2  Dark Horse Comics  False  \n",
       "7                     7.0            6            Top Cow  False  \n",
       "8                     1.0            1          DC Comics  False  \n",
       "9                    31.0            1          DC Comics   True  "
      ],
      "text/html": "<div>\n<style scoped>\n    .dataframe tbody tr th:only-of-type {\n        vertical-align: middle;\n    }\n\n    .dataframe tbody tr th {\n        vertical-align: top;\n    }\n\n    .dataframe thead th {\n        text-align: right;\n    }\n</style>\n<table border=\"1\" class=\"dataframe\">\n  <thead>\n    <tr style=\"text-align: right;\">\n      <th></th>\n      <th>comic</th>\n      <th>pages</th>\n      <th>distance</th>\n      <th>volume_count_of_issues</th>\n      <th>issue_number</th>\n      <th>publisher</th>\n      <th>match</th>\n    </tr>\n  </thead>\n  <tbody>\n    <tr>\n      <th>0</th>\n      <td>New X-Men #127 (2002-08-01) - Of Living and Dy...</td>\n      <td>21</td>\n      <td>0.6250</td>\n      <td>28.0</td>\n      <td>8</td>\n      <td>Panini Comics</td>\n      <td>False</td>\n    </tr>\n    <tr>\n      <th>1</th>\n      <td>New X-Men #127 (2002-08-01) - Of Living and Dy...</td>\n      <td>21</td>\n      <td>0.6250</td>\n      <td>25.0</td>\n      <td>13</td>\n      <td>Cómics Forum</td>\n      <td>False</td>\n    </tr>\n    <tr>\n      <th>2</th>\n      <td>New X-Men #127 (2002-08-01) - Of Living and Dy...</td>\n      <td>21</td>\n      <td>0.5625</td>\n      <td>12.0</td>\n      <td>111</td>\n      <td>Panini Comics</td>\n      <td>False</td>\n    </tr>\n    <tr>\n      <th>3</th>\n      <td>New X-Men #127 (2002-08-01) - Of Living and Dy...</td>\n      <td>21</td>\n      <td>0.5625</td>\n      <td>365.0</td>\n      <td>153</td>\n      <td>Panini Comics</td>\n      <td>False</td>\n    </tr>\n    <tr>\n      <th>4</th>\n      <td>New X-Men #127 (2002-08-01) - Of Living and Dy...</td>\n      <td>21</td>\n      <td>0.1875</td>\n      <td>43.0</td>\n      <td>127</td>\n      <td>Marvel</td>\n      <td>True</td>\n    </tr>\n    <tr>\n      <th>5</th>\n      <td>Stormwatch #001 (2011-11-27) - The Dark Side P...</td>\n      <td>36</td>\n      <td>0.6250</td>\n      <td>1.0</td>\n      <td>1</td>\n      <td>UDON</td>\n      <td>False</td>\n    </tr>\n    <tr>\n      <th>6</th>\n      <td>Stormwatch #001 (2011-11-27) - The Dark Side P...</td>\n      <td>36</td>\n      <td>0.6250</td>\n      <td>4.0</td>\n      <td>2</td>\n      <td>Dark Horse Comics</td>\n      <td>False</td>\n    </tr>\n    <tr>\n      <th>7</th>\n      <td>Stormwatch #001 (2011-11-27) - The Dark Side P...</td>\n      <td>36</td>\n      <td>0.6250</td>\n      <td>7.0</td>\n      <td>6</td>\n      <td>Top Cow</td>\n      <td>False</td>\n    </tr>\n    <tr>\n      <th>8</th>\n      <td>Stormwatch #001 (2011-11-27) - The Dark Side P...</td>\n      <td>36</td>\n      <td>0.5000</td>\n      <td>1.0</td>\n      <td>1</td>\n      <td>DC Comics</td>\n      <td>False</td>\n    </tr>\n    <tr>\n      <th>9</th>\n      <td>Stormwatch #001 (2011-11-27) - The Dark Side P...</td>\n      <td>36</td>\n      <td>0.0625</td>\n      <td>31.0</td>\n      <td>1</td>\n      <td>DC Comics</td>\n      <td>True</td>\n    </tr>\n  </tbody>\n</table>\n</div>"
     },
     "metadata": {},
     "execution_count": 5
    }
   ],
   "source": [
    "samples = df[['comic', 'pages', 'distance', 'volume_count_of_issues', 'issue_number', 'publisher', 'match']]\n",
    "samples.head(10)"
   ]
  },
  {
   "cell_type": "code",
   "execution_count": 18,
   "metadata": {},
   "outputs": [
    {
     "output_type": "execute_result",
     "data": {
      "text/plain": [
       "                                               comic  pages  distance  \\\n",
       "0  New X-Men #127 (2002-08-01) - Of Living and Dy...     21    0.6250   \n",
       "1  New X-Men #127 (2002-08-01) - Of Living and Dy...     21    0.6250   \n",
       "2  New X-Men #127 (2002-08-01) - Of Living and Dy...     21    0.5625   \n",
       "3  New X-Men #127 (2002-08-01) - Of Living and Dy...     21    0.5625   \n",
       "4  New X-Men #127 (2002-08-01) - Of Living and Dy...     21    0.1875   \n",
       "5  Stormwatch #001 (2011-11-27) - The Dark Side P...     36    0.6250   \n",
       "6  Stormwatch #001 (2011-11-27) - The Dark Side P...     36    0.6250   \n",
       "7  Stormwatch #001 (2011-11-27) - The Dark Side P...     36    0.6250   \n",
       "8  Stormwatch #001 (2011-11-27) - The Dark Side P...     36    0.5000   \n",
       "9  Stormwatch #001 (2011-11-27) - The Dark Side P...     36    0.0625   \n",
       "\n",
       "   volume_count_of_issues issue_number          publisher  match     DC  \\\n",
       "0                    28.0            8      Panini Comics  False  False   \n",
       "1                    25.0           13       Cómics Forum  False  False   \n",
       "2                    12.0          111      Panini Comics  False  False   \n",
       "3                   365.0          153      Panini Comics  False  False   \n",
       "4                    43.0          127             Marvel   True  False   \n",
       "5                     1.0            1               UDON  False  False   \n",
       "6                     4.0            2  Dark Horse Comics  False  False   \n",
       "7                     7.0            6            Top Cow  False  False   \n",
       "8                     1.0            1          DC Comics  False   True   \n",
       "9                    31.0            1          DC Comics   True   True   \n",
       "\n",
       "   Marvel  first_issue  \n",
       "0   False        False  \n",
       "1   False        False  \n",
       "2   False        False  \n",
       "3   False        False  \n",
       "4    True        False  \n",
       "5   False         True  \n",
       "6   False        False  \n",
       "7   False        False  \n",
       "8   False         True  \n",
       "9   False         True  "
      ],
      "text/html": "<div>\n<style scoped>\n    .dataframe tbody tr th:only-of-type {\n        vertical-align: middle;\n    }\n\n    .dataframe tbody tr th {\n        vertical-align: top;\n    }\n\n    .dataframe thead th {\n        text-align: right;\n    }\n</style>\n<table border=\"1\" class=\"dataframe\">\n  <thead>\n    <tr style=\"text-align: right;\">\n      <th></th>\n      <th>comic</th>\n      <th>pages</th>\n      <th>distance</th>\n      <th>volume_count_of_issues</th>\n      <th>issue_number</th>\n      <th>publisher</th>\n      <th>match</th>\n      <th>DC</th>\n      <th>Marvel</th>\n      <th>first_issue</th>\n    </tr>\n  </thead>\n  <tbody>\n    <tr>\n      <th>0</th>\n      <td>New X-Men #127 (2002-08-01) - Of Living and Dy...</td>\n      <td>21</td>\n      <td>0.6250</td>\n      <td>28.0</td>\n      <td>8</td>\n      <td>Panini Comics</td>\n      <td>False</td>\n      <td>False</td>\n      <td>False</td>\n      <td>False</td>\n    </tr>\n    <tr>\n      <th>1</th>\n      <td>New X-Men #127 (2002-08-01) - Of Living and Dy...</td>\n      <td>21</td>\n      <td>0.6250</td>\n      <td>25.0</td>\n      <td>13</td>\n      <td>Cómics Forum</td>\n      <td>False</td>\n      <td>False</td>\n      <td>False</td>\n      <td>False</td>\n    </tr>\n    <tr>\n      <th>2</th>\n      <td>New X-Men #127 (2002-08-01) - Of Living and Dy...</td>\n      <td>21</td>\n      <td>0.5625</td>\n      <td>12.0</td>\n      <td>111</td>\n      <td>Panini Comics</td>\n      <td>False</td>\n      <td>False</td>\n      <td>False</td>\n      <td>False</td>\n    </tr>\n    <tr>\n      <th>3</th>\n      <td>New X-Men #127 (2002-08-01) - Of Living and Dy...</td>\n      <td>21</td>\n      <td>0.5625</td>\n      <td>365.0</td>\n      <td>153</td>\n      <td>Panini Comics</td>\n      <td>False</td>\n      <td>False</td>\n      <td>False</td>\n      <td>False</td>\n    </tr>\n    <tr>\n      <th>4</th>\n      <td>New X-Men #127 (2002-08-01) - Of Living and Dy...</td>\n      <td>21</td>\n      <td>0.1875</td>\n      <td>43.0</td>\n      <td>127</td>\n      <td>Marvel</td>\n      <td>True</td>\n      <td>False</td>\n      <td>True</td>\n      <td>False</td>\n    </tr>\n    <tr>\n      <th>5</th>\n      <td>Stormwatch #001 (2011-11-27) - The Dark Side P...</td>\n      <td>36</td>\n      <td>0.6250</td>\n      <td>1.0</td>\n      <td>1</td>\n      <td>UDON</td>\n      <td>False</td>\n      <td>False</td>\n      <td>False</td>\n      <td>True</td>\n    </tr>\n    <tr>\n      <th>6</th>\n      <td>Stormwatch #001 (2011-11-27) - The Dark Side P...</td>\n      <td>36</td>\n      <td>0.6250</td>\n      <td>4.0</td>\n      <td>2</td>\n      <td>Dark Horse Comics</td>\n      <td>False</td>\n      <td>False</td>\n      <td>False</td>\n      <td>False</td>\n    </tr>\n    <tr>\n      <th>7</th>\n      <td>Stormwatch #001 (2011-11-27) - The Dark Side P...</td>\n      <td>36</td>\n      <td>0.6250</td>\n      <td>7.0</td>\n      <td>6</td>\n      <td>Top Cow</td>\n      <td>False</td>\n      <td>False</td>\n      <td>False</td>\n      <td>False</td>\n    </tr>\n    <tr>\n      <th>8</th>\n      <td>Stormwatch #001 (2011-11-27) - The Dark Side P...</td>\n      <td>36</td>\n      <td>0.5000</td>\n      <td>1.0</td>\n      <td>1</td>\n      <td>DC Comics</td>\n      <td>False</td>\n      <td>True</td>\n      <td>False</td>\n      <td>True</td>\n    </tr>\n    <tr>\n      <th>9</th>\n      <td>Stormwatch #001 (2011-11-27) - The Dark Side P...</td>\n      <td>36</td>\n      <td>0.0625</td>\n      <td>31.0</td>\n      <td>1</td>\n      <td>DC Comics</td>\n      <td>True</td>\n      <td>True</td>\n      <td>False</td>\n      <td>True</td>\n    </tr>\n  </tbody>\n</table>\n</div>"
     },
     "metadata": {},
     "execution_count": 18
    }
   ],
   "source": [
    "# Implement one hot encoding for the publishers (DC, Marvel, Other)\n",
    "samples['DC'] = np.where(df['publisher'] == 'DC Comics', True, False)\n",
    "samples['Marvel'] = np.where(df['publisher'] == 'Marvel', True, False)\n",
    "samples['first_issue'] = np.where(df['issue_number'] == '1', True, False)\n",
    "\n",
    "# Convert pages column to integer data\n",
    "samples['pages'] = pd.to_numeric(df['pages'])\n",
    "samples.head(10)"
   ]
  },
  {
   "cell_type": "code",
   "execution_count": 21,
   "metadata": {},
   "outputs": [
    {
     "output_type": "stream",
     "name": "stdout",
     "text": [
      "<class 'pandas.core.frame.DataFrame'>\nRangeIndex: 103086 entries, 0 to 103085\nData columns (total 10 columns):\n #   Column                  Non-Null Count   Dtype  \n---  ------                  --------------   -----  \n 0   comic                   103086 non-null  object \n 1   pages                   103086 non-null  int64  \n 2   distance                103086 non-null  float64\n 3   volume_count_of_issues  103083 non-null  float64\n 4   issue_number            103083 non-null  object \n 5   publisher               103083 non-null  object \n 6   match                   103086 non-null  bool   \n 7   DC                      103086 non-null  bool   \n 8   Marvel                  103086 non-null  bool   \n 9   first_issue             103086 non-null  bool   \ndtypes: bool(4), float64(2), int64(1), object(3)\nmemory usage: 5.1+ MB\n"
     ]
    }
   ],
   "source": [
    "# Looks good. Let's check the data types\n",
    "samples.info()"
   ]
  },
  {
   "cell_type": "code",
   "execution_count": 25,
   "metadata": {},
   "outputs": [],
   "source": [
    "# Break the data into test, train partitions\n",
    "X = samples[['pages', 'distance', 'volume_count_of_issues', 'first_issue', 'DC', 'Marvel']]\n",
    "y = samples[['match']]\n",
    "X_train, X_test, y_train, y_test = train_test_split( X, y, test_size=0.33, random_state=42)"
   ]
  },
  {
   "cell_type": "code",
   "execution_count": 29,
   "metadata": {},
   "outputs": [
    {
     "output_type": "execute_result",
     "data": {
      "text/plain": [
       "       pages  distance  volume_count_of_issues  first_issue     DC  Marvel\n",
       "58593     23    0.5625                    50.0        False   True   False\n",
       "61763     25    0.6875                     8.0        False  False   False\n",
       "79502     23    0.6875                    67.0        False  False   False\n",
       "36521     68    0.5000                   104.0        False   True   False\n",
       "75125    119    0.6875                    21.0        False  False    True"
      ],
      "text/html": "<div>\n<style scoped>\n    .dataframe tbody tr th:only-of-type {\n        vertical-align: middle;\n    }\n\n    .dataframe tbody tr th {\n        vertical-align: top;\n    }\n\n    .dataframe thead th {\n        text-align: right;\n    }\n</style>\n<table border=\"1\" class=\"dataframe\">\n  <thead>\n    <tr style=\"text-align: right;\">\n      <th></th>\n      <th>pages</th>\n      <th>distance</th>\n      <th>volume_count_of_issues</th>\n      <th>first_issue</th>\n      <th>DC</th>\n      <th>Marvel</th>\n    </tr>\n  </thead>\n  <tbody>\n    <tr>\n      <th>58593</th>\n      <td>23</td>\n      <td>0.5625</td>\n      <td>50.0</td>\n      <td>False</td>\n      <td>True</td>\n      <td>False</td>\n    </tr>\n    <tr>\n      <th>61763</th>\n      <td>25</td>\n      <td>0.6875</td>\n      <td>8.0</td>\n      <td>False</td>\n      <td>False</td>\n      <td>False</td>\n    </tr>\n    <tr>\n      <th>79502</th>\n      <td>23</td>\n      <td>0.6875</td>\n      <td>67.0</td>\n      <td>False</td>\n      <td>False</td>\n      <td>False</td>\n    </tr>\n    <tr>\n      <th>36521</th>\n      <td>68</td>\n      <td>0.5000</td>\n      <td>104.0</td>\n      <td>False</td>\n      <td>True</td>\n      <td>False</td>\n    </tr>\n    <tr>\n      <th>75125</th>\n      <td>119</td>\n      <td>0.6875</td>\n      <td>21.0</td>\n      <td>False</td>\n      <td>False</td>\n      <td>True</td>\n    </tr>\n  </tbody>\n</table>\n</div>"
     },
     "metadata": {},
     "execution_count": 29
    }
   ],
   "source": [
    "# Check the output (X)\n",
    "X_train.head()"
   ]
  },
  {
   "cell_type": "code",
   "execution_count": 31,
   "metadata": {},
   "outputs": [
    {
     "output_type": "execute_result",
     "data": {
      "text/plain": [
       "       match\n",
       "58593  False\n",
       "61763  False\n",
       "79502  False\n",
       "36521   True\n",
       "75125  False"
      ],
      "text/html": "<div>\n<style scoped>\n    .dataframe tbody tr th:only-of-type {\n        vertical-align: middle;\n    }\n\n    .dataframe tbody tr th {\n        vertical-align: top;\n    }\n\n    .dataframe thead th {\n        text-align: right;\n    }\n</style>\n<table border=\"1\" class=\"dataframe\">\n  <thead>\n    <tr style=\"text-align: right;\">\n      <th></th>\n      <th>match</th>\n    </tr>\n  </thead>\n  <tbody>\n    <tr>\n      <th>58593</th>\n      <td>False</td>\n    </tr>\n    <tr>\n      <th>61763</th>\n      <td>False</td>\n    </tr>\n    <tr>\n      <th>79502</th>\n      <td>False</td>\n    </tr>\n    <tr>\n      <th>36521</th>\n      <td>True</td>\n    </tr>\n    <tr>\n      <th>75125</th>\n      <td>False</td>\n    </tr>\n  </tbody>\n</table>\n</div>"
     },
     "metadata": {},
     "execution_count": 31
    }
   ],
   "source": [
    "# And.. Y\n",
    "y_train.head()"
   ]
  },
  {
   "cell_type": "code",
   "execution_count": 24,
   "metadata": {},
   "outputs": [
    {
     "output_type": "error",
     "ename": "NameError",
     "evalue": "name 'X_train_sup' is not defined",
     "traceback": [
      "\u001b[0;31m---------------------------------------------------------------------------\u001b[0m",
      "\u001b[0;31mNameError\u001b[0m                                 Traceback (most recent call last)",
      "\u001b[0;32m<ipython-input-24-7923c23d7e2f>\u001b[0m in \u001b[0;36m<module>\u001b[0;34m\u001b[0m\n\u001b[1;32m      1\u001b[0m \u001b[0mxgb\u001b[0m \u001b[0;34m=\u001b[0m \u001b[0mXGBClassifier\u001b[0m\u001b[0;34m(\u001b[0m\u001b[0mmin_child_weight\u001b[0m \u001b[0;34m=\u001b[0m \u001b[0;36m5\u001b[0m\u001b[0;34m,\u001b[0m \u001b[0mmax_depth\u001b[0m\u001b[0;34m=\u001b[0m\u001b[0;36m12\u001b[0m\u001b[0;34m,\u001b[0m \u001b[0mlearning_rate\u001b[0m\u001b[0;34m=\u001b[0m \u001b[0;36m0.1\u001b[0m\u001b[0;34m,\u001b[0m \u001b[0mgamma\u001b[0m\u001b[0;34m=\u001b[0m \u001b[0;36m0.2\u001b[0m\u001b[0;34m,\u001b[0m \u001b[0mcolsample_bytree\u001b[0m\u001b[0;34m=\u001b[0m \u001b[0;36m0.7\u001b[0m\u001b[0;34m)\u001b[0m\u001b[0;34m\u001b[0m\u001b[0;34m\u001b[0m\u001b[0m\n\u001b[1;32m      2\u001b[0m \u001b[0;34m\u001b[0m\u001b[0m\n\u001b[0;32m----> 3\u001b[0;31m \u001b[0mxgb\u001b[0m\u001b[0;34m.\u001b[0m\u001b[0mfit\u001b[0m\u001b[0;34m(\u001b[0m\u001b[0mX_train_sup\u001b[0m\u001b[0;34m,\u001b[0m \u001b[0my_train\u001b[0m\u001b[0;34m)\u001b[0m\u001b[0;34m\u001b[0m\u001b[0;34m\u001b[0m\u001b[0m\n\u001b[0m",
      "\u001b[0;31mNameError\u001b[0m: name 'X_train_sup' is not defined"
     ]
    }
   ],
   "source": [
    "# xgb = XGBClassifier(min_child_weight = 5, max_depth=12, learning_rate= 0.1, gamma= 0.2, colsample_bytree= 0.7)\n",
    "\n",
    "# xgb.fit(X_train_sup, y_train)"
   ]
  },
  {
   "cell_type": "code",
   "execution_count": null,
   "metadata": {},
   "outputs": [],
   "source": []
  }
 ]
}