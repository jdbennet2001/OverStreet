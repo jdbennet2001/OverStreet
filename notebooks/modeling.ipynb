{
 "metadata": {
  "language_info": {
   "codemirror_mode": {
    "name": "ipython",
    "version": 3
   },
   "file_extension": ".py",
   "mimetype": "text/x-python",
   "name": "python",
   "nbconvert_exporter": "python",
   "pygments_lexer": "ipython3",
   "version": "3.9.0"
  },
  "orig_nbformat": 2,
  "kernelspec": {
   "name": "python390jvsc74a57bd0aee8b7b246df8f9039afb4144a1f6fd8d2ca17a180786b69acc140d282b71a49",
   "display_name": "Python 3.9.0 64-bit"
  }
 },
 "nbformat": 4,
 "nbformat_minor": 2,
 "cells": [
  {
   "cell_type": "code",
   "execution_count": 158,
   "metadata": {},
   "outputs": [],
   "source": [
    "import numpy as np\n",
    "import pandas as pd\n",
    "import matplotlib as plt\n",
    "import json\n",
    "import warnings\n",
    "\n",
    "# Data manipulation\n",
    "from sklearn.model_selection import train_test_split\n",
    "import sklearn.metrics as metrics \n",
    "\n",
    "# Modeling code\n",
    "from xgboost.sklearn import XGBClassifier #XGBoost\n",
    "\n",
    "# Visualization support\n",
    "import matplotlib.pyplot as plt \n",
    "from xgboost import plot_importance\n",
    "\n",
    "# Model persistence\n",
    "import pickle\n",
    "\n",
    "\n",
    "\n",
    "# Over Sampling code isn't really needed for our data set, but included as a reference for fraud detection\n",
    "from imblearn.over_sampling import SMOTE"
   ]
  },
  {
   "cell_type": "code",
   "execution_count": 159,
   "metadata": {},
   "outputs": [],
   "source": [
    "'''\n",
    "Gotta fix this, but ignore for now:\n",
    "\n",
    "<ipython-input-9-098e2ff8e245>:2: SettingWithCopyWarning: \n",
    "A value is trying to be set on a copy of a slice from a DataFrame.\n",
    "Try using .loc[row_indexer,col_indexer] = value instead\n",
    "\n",
    "See the caveats in the documentation: https://pandas.pydata.org/pandas-docs/stable/user_guide/indexing.html#returning-a-view-versus-a-copy\n",
    "  samples['DC'] = np.where(df['publisher'] == 'DC Comics', True, False)\n",
    "<ipython-input-9-098e2ff8e245>:3: SettingWithCopyWarning: \n",
    "A value is trying to be set on a copy of a slice from a DataFrame.\n",
    "Try using .loc[row_indexer,col_indexer] = value instead\n",
    "'''\n",
    "\n",
    "from pandas.core.common import SettingWithCopyWarning\n",
    "warnings.simplefilter(action=\"ignore\", category=SettingWithCopyWarning)"
   ]
  },
  {
   "cell_type": "code",
   "execution_count": 160,
   "metadata": {},
   "outputs": [
    {
     "output_type": "stream",
     "name": "stdout",
     "text": [
      "<class 'pandas.core.frame.DataFrame'>\nRangeIndex: 103086 entries, 0 to 103085\nData columns (total 21 columns):\n #   Column                  Non-Null Count   Dtype  \n---  ------                  --------------   -----  \n 0   comic                   103086 non-null  object \n 1   location                103086 non-null  object \n 2   pages                   103086 non-null  int64  \n 3   match                   103086 non-null  bool   \n 4   distance                103086 non-null  float64\n 5   id                      103086 non-null  int64  \n 6   hash                    103086 non-null  object \n 7   name                    73329 non-null   object \n 8   description             84187 non-null   object \n 9   image                   103086 non-null  object \n 10  month                   103086 non-null  object \n 11  issue_number            103083 non-null  object \n 12  url                     103086 non-null  object \n 13  cover_date              103086 non-null  object \n 14  volume_id               103083 non-null  float64\n 15  volume_name             103083 non-null  object \n 16  publisher               103083 non-null  object \n 17  volume_start            103083 non-null  float64\n 18  volume_image            103083 non-null  object \n 19  volume_url              103083 non-null  object \n 20  volume_count_of_issues  103083 non-null  float64\ndtypes: bool(1), float64(4), int64(2), object(14)\nmemory usage: 15.8+ MB\n"
     ]
    }
   ],
   "source": [
    "df = pd.read_json('samples.json')\n",
    "# TODO, Avoid the traditional df.head(10) here because the columns are too long\n",
    "df.info()"
   ]
  },
  {
   "cell_type": "code",
   "execution_count": 161,
   "metadata": {},
   "outputs": [
    {
     "output_type": "execute_result",
     "data": {
      "text/plain": [
       "                                               comic  pages  distance  \\\n",
       "0  New X-Men #127 (2002-08-01) - Of Living and Dy...     21    0.6250   \n",
       "1  New X-Men #127 (2002-08-01) - Of Living and Dy...     21    0.6250   \n",
       "2  New X-Men #127 (2002-08-01) - Of Living and Dy...     21    0.5625   \n",
       "3  New X-Men #127 (2002-08-01) - Of Living and Dy...     21    0.5625   \n",
       "4  New X-Men #127 (2002-08-01) - Of Living and Dy...     21    0.1875   \n",
       "5  Stormwatch #001 (2011-11-27) - The Dark Side P...     36    0.6250   \n",
       "6  Stormwatch #001 (2011-11-27) - The Dark Side P...     36    0.6250   \n",
       "7  Stormwatch #001 (2011-11-27) - The Dark Side P...     36    0.6250   \n",
       "8  Stormwatch #001 (2011-11-27) - The Dark Side P...     36    0.5000   \n",
       "9  Stormwatch #001 (2011-11-27) - The Dark Side P...     36    0.0625   \n",
       "\n",
       "   volume_count_of_issues issue_number          publisher  match  \n",
       "0                    28.0            8      Panini Comics  False  \n",
       "1                    25.0           13       Cómics Forum  False  \n",
       "2                    12.0          111      Panini Comics  False  \n",
       "3                   365.0          153      Panini Comics  False  \n",
       "4                    43.0          127             Marvel   True  \n",
       "5                     1.0            1               UDON  False  \n",
       "6                     4.0            2  Dark Horse Comics  False  \n",
       "7                     7.0            6            Top Cow  False  \n",
       "8                     1.0            1          DC Comics  False  \n",
       "9                    31.0            1          DC Comics   True  "
      ],
      "text/html": "<div>\n<style scoped>\n    .dataframe tbody tr th:only-of-type {\n        vertical-align: middle;\n    }\n\n    .dataframe tbody tr th {\n        vertical-align: top;\n    }\n\n    .dataframe thead th {\n        text-align: right;\n    }\n</style>\n<table border=\"1\" class=\"dataframe\">\n  <thead>\n    <tr style=\"text-align: right;\">\n      <th></th>\n      <th>comic</th>\n      <th>pages</th>\n      <th>distance</th>\n      <th>volume_count_of_issues</th>\n      <th>issue_number</th>\n      <th>publisher</th>\n      <th>match</th>\n    </tr>\n  </thead>\n  <tbody>\n    <tr>\n      <th>0</th>\n      <td>New X-Men #127 (2002-08-01) - Of Living and Dy...</td>\n      <td>21</td>\n      <td>0.6250</td>\n      <td>28.0</td>\n      <td>8</td>\n      <td>Panini Comics</td>\n      <td>False</td>\n    </tr>\n    <tr>\n      <th>1</th>\n      <td>New X-Men #127 (2002-08-01) - Of Living and Dy...</td>\n      <td>21</td>\n      <td>0.6250</td>\n      <td>25.0</td>\n      <td>13</td>\n      <td>Cómics Forum</td>\n      <td>False</td>\n    </tr>\n    <tr>\n      <th>2</th>\n      <td>New X-Men #127 (2002-08-01) - Of Living and Dy...</td>\n      <td>21</td>\n      <td>0.5625</td>\n      <td>12.0</td>\n      <td>111</td>\n      <td>Panini Comics</td>\n      <td>False</td>\n    </tr>\n    <tr>\n      <th>3</th>\n      <td>New X-Men #127 (2002-08-01) - Of Living and Dy...</td>\n      <td>21</td>\n      <td>0.5625</td>\n      <td>365.0</td>\n      <td>153</td>\n      <td>Panini Comics</td>\n      <td>False</td>\n    </tr>\n    <tr>\n      <th>4</th>\n      <td>New X-Men #127 (2002-08-01) - Of Living and Dy...</td>\n      <td>21</td>\n      <td>0.1875</td>\n      <td>43.0</td>\n      <td>127</td>\n      <td>Marvel</td>\n      <td>True</td>\n    </tr>\n    <tr>\n      <th>5</th>\n      <td>Stormwatch #001 (2011-11-27) - The Dark Side P...</td>\n      <td>36</td>\n      <td>0.6250</td>\n      <td>1.0</td>\n      <td>1</td>\n      <td>UDON</td>\n      <td>False</td>\n    </tr>\n    <tr>\n      <th>6</th>\n      <td>Stormwatch #001 (2011-11-27) - The Dark Side P...</td>\n      <td>36</td>\n      <td>0.6250</td>\n      <td>4.0</td>\n      <td>2</td>\n      <td>Dark Horse Comics</td>\n      <td>False</td>\n    </tr>\n    <tr>\n      <th>7</th>\n      <td>Stormwatch #001 (2011-11-27) - The Dark Side P...</td>\n      <td>36</td>\n      <td>0.6250</td>\n      <td>7.0</td>\n      <td>6</td>\n      <td>Top Cow</td>\n      <td>False</td>\n    </tr>\n    <tr>\n      <th>8</th>\n      <td>Stormwatch #001 (2011-11-27) - The Dark Side P...</td>\n      <td>36</td>\n      <td>0.5000</td>\n      <td>1.0</td>\n      <td>1</td>\n      <td>DC Comics</td>\n      <td>False</td>\n    </tr>\n    <tr>\n      <th>9</th>\n      <td>Stormwatch #001 (2011-11-27) - The Dark Side P...</td>\n      <td>36</td>\n      <td>0.0625</td>\n      <td>31.0</td>\n      <td>1</td>\n      <td>DC Comics</td>\n      <td>True</td>\n    </tr>\n  </tbody>\n</table>\n</div>"
     },
     "metadata": {},
     "execution_count": 161
    }
   ],
   "source": [
    "samples = df[['comic', 'pages', 'distance', 'volume_count_of_issues', 'issue_number', 'publisher', 'match']]\n",
    "samples.head(10)"
   ]
  },
  {
   "cell_type": "code",
   "execution_count": 162,
   "metadata": {},
   "outputs": [
    {
     "output_type": "execute_result",
     "data": {
      "text/plain": [
       "                                               comic  pages  distance  \\\n",
       "0  New X-Men #127 (2002-08-01) - Of Living and Dy...     21    0.6250   \n",
       "1  New X-Men #127 (2002-08-01) - Of Living and Dy...     21    0.6250   \n",
       "2  New X-Men #127 (2002-08-01) - Of Living and Dy...     21    0.5625   \n",
       "3  New X-Men #127 (2002-08-01) - Of Living and Dy...     21    0.5625   \n",
       "4  New X-Men #127 (2002-08-01) - Of Living and Dy...     21    0.1875   \n",
       "5  Stormwatch #001 (2011-11-27) - The Dark Side P...     36    0.6250   \n",
       "6  Stormwatch #001 (2011-11-27) - The Dark Side P...     36    0.6250   \n",
       "7  Stormwatch #001 (2011-11-27) - The Dark Side P...     36    0.6250   \n",
       "8  Stormwatch #001 (2011-11-27) - The Dark Side P...     36    0.5000   \n",
       "9  Stormwatch #001 (2011-11-27) - The Dark Side P...     36    0.0625   \n",
       "\n",
       "   volume_count_of_issues issue_number          publisher  match     DC  \\\n",
       "0                    28.0            8      Panini Comics  False  False   \n",
       "1                    25.0           13       Cómics Forum  False  False   \n",
       "2                    12.0          111      Panini Comics  False  False   \n",
       "3                   365.0          153      Panini Comics  False  False   \n",
       "4                    43.0          127             Marvel   True  False   \n",
       "5                     1.0            1               UDON  False  False   \n",
       "6                     4.0            2  Dark Horse Comics  False  False   \n",
       "7                     7.0            6            Top Cow  False  False   \n",
       "8                     1.0            1          DC Comics  False   True   \n",
       "9                    31.0            1          DC Comics   True   True   \n",
       "\n",
       "   Marvel  first_issue  int_match  \n",
       "0   False        False          0  \n",
       "1   False        False          0  \n",
       "2   False        False          0  \n",
       "3   False        False          0  \n",
       "4    True        False          1  \n",
       "5   False         True          0  \n",
       "6   False        False          0  \n",
       "7   False        False          0  \n",
       "8   False         True          0  \n",
       "9   False         True          1  "
      ],
      "text/html": "<div>\n<style scoped>\n    .dataframe tbody tr th:only-of-type {\n        vertical-align: middle;\n    }\n\n    .dataframe tbody tr th {\n        vertical-align: top;\n    }\n\n    .dataframe thead th {\n        text-align: right;\n    }\n</style>\n<table border=\"1\" class=\"dataframe\">\n  <thead>\n    <tr style=\"text-align: right;\">\n      <th></th>\n      <th>comic</th>\n      <th>pages</th>\n      <th>distance</th>\n      <th>volume_count_of_issues</th>\n      <th>issue_number</th>\n      <th>publisher</th>\n      <th>match</th>\n      <th>DC</th>\n      <th>Marvel</th>\n      <th>first_issue</th>\n      <th>int_match</th>\n    </tr>\n  </thead>\n  <tbody>\n    <tr>\n      <th>0</th>\n      <td>New X-Men #127 (2002-08-01) - Of Living and Dy...</td>\n      <td>21</td>\n      <td>0.6250</td>\n      <td>28.0</td>\n      <td>8</td>\n      <td>Panini Comics</td>\n      <td>False</td>\n      <td>False</td>\n      <td>False</td>\n      <td>False</td>\n      <td>0</td>\n    </tr>\n    <tr>\n      <th>1</th>\n      <td>New X-Men #127 (2002-08-01) - Of Living and Dy...</td>\n      <td>21</td>\n      <td>0.6250</td>\n      <td>25.0</td>\n      <td>13</td>\n      <td>Cómics Forum</td>\n      <td>False</td>\n      <td>False</td>\n      <td>False</td>\n      <td>False</td>\n      <td>0</td>\n    </tr>\n    <tr>\n      <th>2</th>\n      <td>New X-Men #127 (2002-08-01) - Of Living and Dy...</td>\n      <td>21</td>\n      <td>0.5625</td>\n      <td>12.0</td>\n      <td>111</td>\n      <td>Panini Comics</td>\n      <td>False</td>\n      <td>False</td>\n      <td>False</td>\n      <td>False</td>\n      <td>0</td>\n    </tr>\n    <tr>\n      <th>3</th>\n      <td>New X-Men #127 (2002-08-01) - Of Living and Dy...</td>\n      <td>21</td>\n      <td>0.5625</td>\n      <td>365.0</td>\n      <td>153</td>\n      <td>Panini Comics</td>\n      <td>False</td>\n      <td>False</td>\n      <td>False</td>\n      <td>False</td>\n      <td>0</td>\n    </tr>\n    <tr>\n      <th>4</th>\n      <td>New X-Men #127 (2002-08-01) - Of Living and Dy...</td>\n      <td>21</td>\n      <td>0.1875</td>\n      <td>43.0</td>\n      <td>127</td>\n      <td>Marvel</td>\n      <td>True</td>\n      <td>False</td>\n      <td>True</td>\n      <td>False</td>\n      <td>1</td>\n    </tr>\n    <tr>\n      <th>5</th>\n      <td>Stormwatch #001 (2011-11-27) - The Dark Side P...</td>\n      <td>36</td>\n      <td>0.6250</td>\n      <td>1.0</td>\n      <td>1</td>\n      <td>UDON</td>\n      <td>False</td>\n      <td>False</td>\n      <td>False</td>\n      <td>True</td>\n      <td>0</td>\n    </tr>\n    <tr>\n      <th>6</th>\n      <td>Stormwatch #001 (2011-11-27) - The Dark Side P...</td>\n      <td>36</td>\n      <td>0.6250</td>\n      <td>4.0</td>\n      <td>2</td>\n      <td>Dark Horse Comics</td>\n      <td>False</td>\n      <td>False</td>\n      <td>False</td>\n      <td>False</td>\n      <td>0</td>\n    </tr>\n    <tr>\n      <th>7</th>\n      <td>Stormwatch #001 (2011-11-27) - The Dark Side P...</td>\n      <td>36</td>\n      <td>0.6250</td>\n      <td>7.0</td>\n      <td>6</td>\n      <td>Top Cow</td>\n      <td>False</td>\n      <td>False</td>\n      <td>False</td>\n      <td>False</td>\n      <td>0</td>\n    </tr>\n    <tr>\n      <th>8</th>\n      <td>Stormwatch #001 (2011-11-27) - The Dark Side P...</td>\n      <td>36</td>\n      <td>0.5000</td>\n      <td>1.0</td>\n      <td>1</td>\n      <td>DC Comics</td>\n      <td>False</td>\n      <td>True</td>\n      <td>False</td>\n      <td>True</td>\n      <td>0</td>\n    </tr>\n    <tr>\n      <th>9</th>\n      <td>Stormwatch #001 (2011-11-27) - The Dark Side P...</td>\n      <td>36</td>\n      <td>0.0625</td>\n      <td>31.0</td>\n      <td>1</td>\n      <td>DC Comics</td>\n      <td>True</td>\n      <td>True</td>\n      <td>False</td>\n      <td>True</td>\n      <td>1</td>\n    </tr>\n  </tbody>\n</table>\n</div>"
     },
     "metadata": {},
     "execution_count": 162
    }
   ],
   "source": [
    "# Implement one hot encoding for the publishers (DC, Marvel, Other)\n",
    "samples['DC'] = np.where(samples['publisher'] == 'DC Comics', True, False)\n",
    "samples['Marvel'] = np.where(samples['publisher'] == 'Marvel', True, False)\n",
    "samples['first_issue'] = np.where(samples['issue_number'] == '1', True, False)\n",
    "\n",
    "# Convert pages column to integer data\n",
    "samples['pages'] = pd.to_numeric(samples['pages'])\n",
    "samples['int_match'] = samples['match'].astype(int)\n",
    "samples.head(10)"
   ]
  },
  {
   "cell_type": "code",
   "execution_count": 163,
   "metadata": {},
   "outputs": [
    {
     "output_type": "stream",
     "name": "stdout",
     "text": [
      "<class 'pandas.core.frame.DataFrame'>\nRangeIndex: 103086 entries, 0 to 103085\nData columns (total 11 columns):\n #   Column                  Non-Null Count   Dtype  \n---  ------                  --------------   -----  \n 0   comic                   103086 non-null  object \n 1   pages                   103086 non-null  int64  \n 2   distance                103086 non-null  float64\n 3   volume_count_of_issues  103083 non-null  float64\n 4   issue_number            103083 non-null  object \n 5   publisher               103083 non-null  object \n 6   match                   103086 non-null  bool   \n 7   DC                      103086 non-null  bool   \n 8   Marvel                  103086 non-null  bool   \n 9   first_issue             103086 non-null  bool   \n 10  int_match               103086 non-null  int64  \ndtypes: bool(4), float64(2), int64(2), object(3)\nmemory usage: 5.9+ MB\n"
     ]
    }
   ],
   "source": [
    "# Looks good. Let's check the data types\n",
    "samples.info()"
   ]
  },
  {
   "cell_type": "code",
   "execution_count": 164,
   "metadata": {},
   "outputs": [],
   "source": [
    "# Break the data into test, train partitions\n",
    "X = samples[['pages', 'distance', 'volume_count_of_issues', 'first_issue', 'DC', 'Marvel']]\n",
    "\n",
    "# Note the single set of brackets. XGBoost wants a column. Also, use integer data to help with interpreting the results.\n",
    "y = samples['int_match'] \n",
    "\n",
    "X_train, X_test, y_train, y_test = train_test_split( X, y, test_size=0.33, random_state=42)"
   ]
  },
  {
   "cell_type": "code",
   "execution_count": 165,
   "metadata": {},
   "outputs": [
    {
     "output_type": "execute_result",
     "data": {
      "text/plain": [
       "(69067, 6)"
      ]
     },
     "metadata": {},
     "execution_count": 165
    }
   ],
   "source": [
    "# Check the output (X)\n",
    "X_train.shape"
   ]
  },
  {
   "cell_type": "code",
   "execution_count": 166,
   "metadata": {},
   "outputs": [
    {
     "output_type": "execute_result",
     "data": {
      "text/plain": [
       "        pages  distance  volume_count_of_issues  first_issue     DC  Marvel\n",
       "1718       36    0.6250                     7.0        False  False   False\n",
       "14555      28    0.0625                    49.0        False  False    True\n",
       "83570      29    0.3125                     4.0         True  False    True\n",
       "53527      25    0.5625                     1.0         True  False   False\n",
       "101247    134    0.0000                     1.0         True  False    True\n",
       "30784      24    0.6250                    82.0        False   True   False\n",
       "6370       37    0.6250                     2.0        False  False    True\n",
       "79375      24    0.4375                     1.0         True  False    True\n",
       "25845      18    0.6875                   183.0        False   True   False\n",
       "53873      37    0.0625                    85.0        False   True   False"
      ],
      "text/html": "<div>\n<style scoped>\n    .dataframe tbody tr th:only-of-type {\n        vertical-align: middle;\n    }\n\n    .dataframe tbody tr th {\n        vertical-align: top;\n    }\n\n    .dataframe thead th {\n        text-align: right;\n    }\n</style>\n<table border=\"1\" class=\"dataframe\">\n  <thead>\n    <tr style=\"text-align: right;\">\n      <th></th>\n      <th>pages</th>\n      <th>distance</th>\n      <th>volume_count_of_issues</th>\n      <th>first_issue</th>\n      <th>DC</th>\n      <th>Marvel</th>\n    </tr>\n  </thead>\n  <tbody>\n    <tr>\n      <th>1718</th>\n      <td>36</td>\n      <td>0.6250</td>\n      <td>7.0</td>\n      <td>False</td>\n      <td>False</td>\n      <td>False</td>\n    </tr>\n    <tr>\n      <th>14555</th>\n      <td>28</td>\n      <td>0.0625</td>\n      <td>49.0</td>\n      <td>False</td>\n      <td>False</td>\n      <td>True</td>\n    </tr>\n    <tr>\n      <th>83570</th>\n      <td>29</td>\n      <td>0.3125</td>\n      <td>4.0</td>\n      <td>True</td>\n      <td>False</td>\n      <td>True</td>\n    </tr>\n    <tr>\n      <th>53527</th>\n      <td>25</td>\n      <td>0.5625</td>\n      <td>1.0</td>\n      <td>True</td>\n      <td>False</td>\n      <td>False</td>\n    </tr>\n    <tr>\n      <th>101247</th>\n      <td>134</td>\n      <td>0.0000</td>\n      <td>1.0</td>\n      <td>True</td>\n      <td>False</td>\n      <td>True</td>\n    </tr>\n    <tr>\n      <th>30784</th>\n      <td>24</td>\n      <td>0.6250</td>\n      <td>82.0</td>\n      <td>False</td>\n      <td>True</td>\n      <td>False</td>\n    </tr>\n    <tr>\n      <th>6370</th>\n      <td>37</td>\n      <td>0.6250</td>\n      <td>2.0</td>\n      <td>False</td>\n      <td>False</td>\n      <td>True</td>\n    </tr>\n    <tr>\n      <th>79375</th>\n      <td>24</td>\n      <td>0.4375</td>\n      <td>1.0</td>\n      <td>True</td>\n      <td>False</td>\n      <td>True</td>\n    </tr>\n    <tr>\n      <th>25845</th>\n      <td>18</td>\n      <td>0.6875</td>\n      <td>183.0</td>\n      <td>False</td>\n      <td>True</td>\n      <td>False</td>\n    </tr>\n    <tr>\n      <th>53873</th>\n      <td>37</td>\n      <td>0.0625</td>\n      <td>85.0</td>\n      <td>False</td>\n      <td>True</td>\n      <td>False</td>\n    </tr>\n  </tbody>\n</table>\n</div>"
     },
     "metadata": {},
     "execution_count": 166
    }
   ],
   "source": [
    "X_test.head(10)"
   ]
  },
  {
   "cell_type": "code",
   "execution_count": 167,
   "metadata": {},
   "outputs": [
    {
     "output_type": "execute_result",
     "data": {
      "text/plain": [
       "58593    0\n",
       "61763    0\n",
       "79502    0\n",
       "36521    1\n",
       "75125    0\n",
       "Name: int_match, dtype: int64"
      ]
     },
     "metadata": {},
     "execution_count": 167
    }
   ],
   "source": [
    "# And.. Y\n",
    "y_train.head()"
   ]
  },
  {
   "cell_type": "code",
   "execution_count": 168,
   "metadata": {},
   "outputs": [
    {
     "output_type": "execute_result",
     "data": {
      "text/plain": [
       "XGBClassifier(base_score=0.5, booster='gbtree', colsample_bylevel=1,\n",
       "              colsample_bynode=1, colsample_bytree=0.7, gamma=0.2, gpu_id=-1,\n",
       "              importance_type='gain', interaction_constraints='',\n",
       "              learning_rate=0.1, max_delta_step=0, max_depth=12,\n",
       "              min_child_weight=5, missing=nan, monotone_constraints='()',\n",
       "              n_estimators=100, n_jobs=0, num_parallel_tree=1, random_state=0,\n",
       "              reg_alpha=0, reg_lambda=1, scale_pos_weight=1, subsample=1,\n",
       "              tree_method='exact', validate_parameters=1, verbosity=None)"
      ]
     },
     "metadata": {},
     "execution_count": 168
    }
   ],
   "source": [
    "xgb = XGBClassifier(min_child_weight = 5, max_depth=12, learning_rate= 0.1, gamma= 0.2, colsample_bytree= 0.7)\n",
    "\n",
    "xgb.fit(X_train, y_train)"
   ]
  },
  {
   "source": [
    "**Prediction algorithms:**\n",
    "\n",
    "Generate a sample vector of the form: `[['pages', 'distance', 'volume_count_of_issues', 'first_issue', 'DC', 'Marvel']]`\n",
    "and use predict_proba to generate the likelyhood of 0 (not a match) and 1 (match)\n",
    "\n",
    "_Note: Gotta use double brackets because XGBoost expects a list of data samples_\n"
   ],
   "cell_type": "markdown",
   "metadata": {}
  },
  {
   "cell_type": "code",
   "execution_count": 169,
   "metadata": {},
   "outputs": [
    {
     "output_type": "stream",
     "name": "stdout",
     "text": [
      "[[0.9972952  0.00270482]]\n"
     ]
    }
   ],
   "source": [
    "# Sample training data, poor cover match and not a 'big two' issue \n",
    "sample  = np.array([[37, 0.625, 85, False, False, False]])  \n",
    "prediction_xgb = xgb.predict_proba(sample)\n",
    "\n",
    "# Result 99% sure that this is not a match\n",
    "print( prediction_xgb )"
   ]
  },
  {
   "cell_type": "code",
   "execution_count": 177,
   "metadata": {},
   "outputs": [
    {
     "output_type": "stream",
     "name": "stdout",
     "text": [
      "[[0.02034539 0.9796546 ]]\n"
     ]
    }
   ],
   "source": [
    "# Another sample (X-Men 127, 2002)\n",
    "sample = np.array([[21, 0.1875, 43.0, False, False, True]])\n",
    "prediction_xgb = xgb.predict_proba(sample)\n",
    "\n",
    "# Result [[0.02034539 0.9796546 ]] 2% chance this is not a match, ~ 98% chance it is a match\n",
    "print( prediction_xgb )"
   ]
  },
  {
   "cell_type": "code",
   "execution_count": 170,
   "metadata": {},
   "outputs": [
    {
     "output_type": "stream",
     "name": "stderr",
     "text": [
      "/Library/Frameworks/Python.framework/Versions/3.9/lib/python3.9/site-packages/sklearn/metrics/_classification.py:1248: UndefinedMetricWarning: Precision is ill-defined and being set to 0.0 due to no predicted samples. Use `zero_division` parameter to control this behavior.\n",
      "  _warn_prf(average, modifier, msg_start, len(result))\n",
      "The recall score is\": 0.957\n",
      "The precision score is\": 0.862\n",
      "The f2 score is\": 0.936\n",
      "The Kappa score is\": 0.883\n"
     ]
    }
   ],
   "source": [
    "# How accurate was that?\n",
    "prediction_xgb = xgb.predict_proba(X_test)\n",
    "tresholds = np.linspace(0 , 1 , 200)\n",
    "scores_xgb=[]\n",
    "for treshold in tresholds:\n",
    "    y_hat_xgb = (prediction_xgb[:,0] < treshold).astype(int)\n",
    "    scores_xgb.append([metrics.recall_score(y_pred=y_hat_xgb, y_true=y_test),\n",
    "                 metrics.precision_score(y_pred=y_hat_xgb, y_true=y_test),\n",
    "                 metrics.fbeta_score(y_pred=y_hat_xgb, y_true=y_test, beta=2),\n",
    "                 metrics.cohen_kappa_score(y1=y_hat_xgb, y2=y_test)])  \n",
    "                 \n",
    "scores_xgb = np.array(scores_xgb)\n",
    "final_tresh = tresholds[scores_xgb[:, 2].argmax()]\n",
    "y_hat_xgb = (prediction_xgb < final_tresh).astype(int)\n",
    "best_score_xgb = scores_xgb[scores_xgb[:, 2].argmax(),:]\n",
    "recall_score_xgb = best_score_xgb[0]\n",
    "precision_score_xgb = best_score_xgb[1]\n",
    "fbeta_score_xgb = best_score_xgb[2]\n",
    "cohen_kappa_score_xgb = best_score_xgb[3]\n",
    "\n",
    "print('The recall score is\": %.3f' % recall_score_xgb)\n",
    "print('The precision score is\": %.3f' % precision_score_xgb)\n",
    "print('The f2 score is\": %.3f' % fbeta_score_xgb)\n",
    "print('The Kappa score is\": %.3f' % cohen_kappa_score_xgb)"
   ]
  },
  {
   "cell_type": "code",
   "execution_count": 171,
   "metadata": {},
   "outputs": [
    {
     "output_type": "display_data",
     "data": {
      "text/plain": "<Figure size 576x360 with 1 Axes>",
      "image/svg+xml": "<?xml version=\"1.0\" encoding=\"utf-8\" standalone=\"no\"?>\n<!DOCTYPE svg PUBLIC \"-//W3C//DTD SVG 1.1//EN\"\n  \"http://www.w3.org/Graphics/SVG/1.1/DTD/svg11.dtd\">\n<!-- Created with matplotlib (https://matplotlib.org/) -->\n<svg height=\"331.674375pt\" version=\"1.1\" viewBox=\"0 0 602.273438 331.674375\" width=\"602.273438pt\" xmlns=\"http://www.w3.org/2000/svg\" xmlns:xlink=\"http://www.w3.org/1999/xlink\">\n <metadata>\n  <rdf:RDF xmlns:cc=\"http://creativecommons.org/ns#\" xmlns:dc=\"http://purl.org/dc/elements/1.1/\" xmlns:rdf=\"http://www.w3.org/1999/02/22-rdf-syntax-ns#\">\n   <cc:Work>\n    <dc:type rdf:resource=\"http://purl.org/dc/dcmitype/StillImage\"/>\n    <dc:date>2021-05-23T12:12:40.114095</dc:date>\n    <dc:format>image/svg+xml</dc:format>\n    <dc:creator>\n     <cc:Agent>\n      <dc:title>Matplotlib v3.3.2, https://matplotlib.org/</dc:title>\n     </cc:Agent>\n    </dc:creator>\n   </cc:Work>\n  </rdf:RDF>\n </metadata>\n <defs>\n  <style type=\"text/css\">*{stroke-linecap:butt;stroke-linejoin:round;}</style>\n </defs>\n <g id=\"figure_1\">\n  <g id=\"patch_1\">\n   <path d=\"M 0 331.674375 \nL 602.273438 331.674375 \nL 602.273438 0 \nL 0 0 \nz\n\" style=\"fill:none;\"/>\n  </g>\n  <g id=\"axes_1\">\n   <g id=\"patch_2\">\n    <path d=\"M 148.673438 294.118125 \nL 595.073437 294.118125 \nL 595.073437 22.318125 \nL 148.673438 22.318125 \nz\n\" style=\"fill:#ffffff;\"/>\n   </g>\n   <g id=\"patch_3\">\n    <path clip-path=\"url(#p39b4a7720e)\" d=\"M 148.673438 270.820982 \nL 166.245517 270.820982 \nL 166.245517 239.758125 \nL 148.673438 239.758125 \nz\n\" style=\"fill:#0000ff;\"/>\n   </g>\n   <g id=\"patch_4\">\n    <path clip-path=\"url(#p39b4a7720e)\" d=\"M 148.673438 231.992411 \nL 171.29576 231.992411 \nL 171.29576 200.929554 \nL 148.673438 200.929554 \nz\n\" style=\"fill:#0000ff;\"/>\n   </g>\n   <g id=\"patch_5\">\n    <path clip-path=\"url(#p39b4a7720e)\" d=\"M 148.673438 193.163839 \nL 171.364942 193.163839 \nL 171.364942 162.100982 \nL 148.673438 162.100982 \nz\n\" style=\"fill:#0000ff;\"/>\n   </g>\n   <g id=\"patch_6\">\n    <path clip-path=\"url(#p39b4a7720e)\" d=\"M 148.673438 154.335268 \nL 274.721976 154.335268 \nL 274.721976 123.272411 \nL 148.673438 123.272411 \nz\n\" style=\"fill:#0000ff;\"/>\n   </g>\n   <g id=\"patch_7\">\n    <path clip-path=\"url(#p39b4a7720e)\" d=\"M 148.673438 115.506696 \nL 498.938943 115.506696 \nL 498.938943 84.443839 \nL 148.673438 84.443839 \nz\n\" style=\"fill:#0000ff;\"/>\n   </g>\n   <g id=\"patch_8\">\n    <path clip-path=\"url(#p39b4a7720e)\" d=\"M 148.673438 76.678125 \nL 554.491619 76.678125 \nL 554.491619 45.615268 \nL 148.673438 45.615268 \nz\n\" style=\"fill:#0000ff;\"/>\n   </g>\n   <g id=\"matplotlib.axis_1\">\n    <g id=\"xtick_1\">\n     <g id=\"line2d_1\">\n      <path clip-path=\"url(#p39b4a7720e)\" d=\"M 148.673438 294.118125 \nL 148.673438 22.318125 \n\" style=\"fill:none;stroke:#b0b0b0;stroke-linecap:square;stroke-width:0.8;\"/>\n     </g>\n     <g id=\"line2d_2\">\n      <defs>\n       <path d=\"M 0 0 \nL 0 3.5 \n\" id=\"m68f79a979d\" style=\"stroke:#000000;stroke-width:0.8;\"/>\n      </defs>\n      <g>\n       <use style=\"stroke:#000000;stroke-width:0.8;\" x=\"148.673438\" xlink:href=\"#m68f79a979d\" y=\"294.118125\"/>\n      </g>\n     </g>\n     <g id=\"text_1\">\n      <!-- 0 -->\n      <g transform=\"translate(145.492188 308.716563)scale(0.1 -0.1)\">\n       <defs>\n        <path d=\"M 31.78125 66.40625 \nQ 24.171875 66.40625 20.328125 58.90625 \nQ 16.5 51.421875 16.5 36.375 \nQ 16.5 21.390625 20.328125 13.890625 \nQ 24.171875 6.390625 31.78125 6.390625 \nQ 39.453125 6.390625 43.28125 13.890625 \nQ 47.125 21.390625 47.125 36.375 \nQ 47.125 51.421875 43.28125 58.90625 \nQ 39.453125 66.40625 31.78125 66.40625 \nz\nM 31.78125 74.21875 \nQ 44.046875 74.21875 50.515625 64.515625 \nQ 56.984375 54.828125 56.984375 36.375 \nQ 56.984375 17.96875 50.515625 8.265625 \nQ 44.046875 -1.421875 31.78125 -1.421875 \nQ 19.53125 -1.421875 13.0625 8.265625 \nQ 6.59375 17.96875 6.59375 36.375 \nQ 6.59375 54.828125 13.0625 64.515625 \nQ 19.53125 74.21875 31.78125 74.21875 \nz\n\" id=\"DejaVuSans-48\"/>\n       </defs>\n       <use xlink:href=\"#DejaVuSans-48\"/>\n      </g>\n     </g>\n    </g>\n    <g id=\"xtick_2\">\n     <g id=\"line2d_3\">\n      <path clip-path=\"url(#p39b4a7720e)\" d=\"M 217.854853 294.118125 \nL 217.854853 22.318125 \n\" style=\"fill:none;stroke:#b0b0b0;stroke-linecap:square;stroke-width:0.8;\"/>\n     </g>\n     <g id=\"line2d_4\">\n      <g>\n       <use style=\"stroke:#000000;stroke-width:0.8;\" x=\"217.854853\" xlink:href=\"#m68f79a979d\" y=\"294.118125\"/>\n      </g>\n     </g>\n     <g id=\"text_2\">\n      <!-- 1000 -->\n      <g transform=\"translate(205.129853 308.716563)scale(0.1 -0.1)\">\n       <defs>\n        <path d=\"M 12.40625 8.296875 \nL 28.515625 8.296875 \nL 28.515625 63.921875 \nL 10.984375 60.40625 \nL 10.984375 69.390625 \nL 28.421875 72.90625 \nL 38.28125 72.90625 \nL 38.28125 8.296875 \nL 54.390625 8.296875 \nL 54.390625 0 \nL 12.40625 0 \nz\n\" id=\"DejaVuSans-49\"/>\n       </defs>\n       <use xlink:href=\"#DejaVuSans-49\"/>\n       <use x=\"63.623047\" xlink:href=\"#DejaVuSans-48\"/>\n       <use x=\"127.246094\" xlink:href=\"#DejaVuSans-48\"/>\n       <use x=\"190.869141\" xlink:href=\"#DejaVuSans-48\"/>\n      </g>\n     </g>\n    </g>\n    <g id=\"xtick_3\">\n     <g id=\"line2d_5\">\n      <path clip-path=\"url(#p39b4a7720e)\" d=\"M 287.036268 294.118125 \nL 287.036268 22.318125 \n\" style=\"fill:none;stroke:#b0b0b0;stroke-linecap:square;stroke-width:0.8;\"/>\n     </g>\n     <g id=\"line2d_6\">\n      <g>\n       <use style=\"stroke:#000000;stroke-width:0.8;\" x=\"287.036268\" xlink:href=\"#m68f79a979d\" y=\"294.118125\"/>\n      </g>\n     </g>\n     <g id=\"text_3\">\n      <!-- 2000 -->\n      <g transform=\"translate(274.311268 308.716563)scale(0.1 -0.1)\">\n       <defs>\n        <path d=\"M 19.1875 8.296875 \nL 53.609375 8.296875 \nL 53.609375 0 \nL 7.328125 0 \nL 7.328125 8.296875 \nQ 12.9375 14.109375 22.625 23.890625 \nQ 32.328125 33.6875 34.8125 36.53125 \nQ 39.546875 41.84375 41.421875 45.53125 \nQ 43.3125 49.21875 43.3125 52.78125 \nQ 43.3125 58.59375 39.234375 62.25 \nQ 35.15625 65.921875 28.609375 65.921875 \nQ 23.96875 65.921875 18.8125 64.3125 \nQ 13.671875 62.703125 7.8125 59.421875 \nL 7.8125 69.390625 \nQ 13.765625 71.78125 18.9375 73 \nQ 24.125 74.21875 28.421875 74.21875 \nQ 39.75 74.21875 46.484375 68.546875 \nQ 53.21875 62.890625 53.21875 53.421875 \nQ 53.21875 48.921875 51.53125 44.890625 \nQ 49.859375 40.875 45.40625 35.40625 \nQ 44.1875 33.984375 37.640625 27.21875 \nQ 31.109375 20.453125 19.1875 8.296875 \nz\n\" id=\"DejaVuSans-50\"/>\n       </defs>\n       <use xlink:href=\"#DejaVuSans-50\"/>\n       <use x=\"63.623047\" xlink:href=\"#DejaVuSans-48\"/>\n       <use x=\"127.246094\" xlink:href=\"#DejaVuSans-48\"/>\n       <use x=\"190.869141\" xlink:href=\"#DejaVuSans-48\"/>\n      </g>\n     </g>\n    </g>\n    <g id=\"xtick_4\">\n     <g id=\"line2d_7\">\n      <path clip-path=\"url(#p39b4a7720e)\" d=\"M 356.217683 294.118125 \nL 356.217683 22.318125 \n\" style=\"fill:none;stroke:#b0b0b0;stroke-linecap:square;stroke-width:0.8;\"/>\n     </g>\n     <g id=\"line2d_8\">\n      <g>\n       <use style=\"stroke:#000000;stroke-width:0.8;\" x=\"356.217683\" xlink:href=\"#m68f79a979d\" y=\"294.118125\"/>\n      </g>\n     </g>\n     <g id=\"text_4\">\n      <!-- 3000 -->\n      <g transform=\"translate(343.492683 308.716563)scale(0.1 -0.1)\">\n       <defs>\n        <path d=\"M 40.578125 39.3125 \nQ 47.65625 37.796875 51.625 33 \nQ 55.609375 28.21875 55.609375 21.1875 \nQ 55.609375 10.40625 48.1875 4.484375 \nQ 40.765625 -1.421875 27.09375 -1.421875 \nQ 22.515625 -1.421875 17.65625 -0.515625 \nQ 12.796875 0.390625 7.625 2.203125 \nL 7.625 11.71875 \nQ 11.71875 9.328125 16.59375 8.109375 \nQ 21.484375 6.890625 26.8125 6.890625 \nQ 36.078125 6.890625 40.9375 10.546875 \nQ 45.796875 14.203125 45.796875 21.1875 \nQ 45.796875 27.640625 41.28125 31.265625 \nQ 36.765625 34.90625 28.71875 34.90625 \nL 20.21875 34.90625 \nL 20.21875 43.015625 \nL 29.109375 43.015625 \nQ 36.375 43.015625 40.234375 45.921875 \nQ 44.09375 48.828125 44.09375 54.296875 \nQ 44.09375 59.90625 40.109375 62.90625 \nQ 36.140625 65.921875 28.71875 65.921875 \nQ 24.65625 65.921875 20.015625 65.03125 \nQ 15.375 64.15625 9.8125 62.3125 \nL 9.8125 71.09375 \nQ 15.4375 72.65625 20.34375 73.4375 \nQ 25.25 74.21875 29.59375 74.21875 \nQ 40.828125 74.21875 47.359375 69.109375 \nQ 53.90625 64.015625 53.90625 55.328125 \nQ 53.90625 49.265625 50.4375 45.09375 \nQ 46.96875 40.921875 40.578125 39.3125 \nz\n\" id=\"DejaVuSans-51\"/>\n       </defs>\n       <use xlink:href=\"#DejaVuSans-51\"/>\n       <use x=\"63.623047\" xlink:href=\"#DejaVuSans-48\"/>\n       <use x=\"127.246094\" xlink:href=\"#DejaVuSans-48\"/>\n       <use x=\"190.869141\" xlink:href=\"#DejaVuSans-48\"/>\n      </g>\n     </g>\n    </g>\n    <g id=\"xtick_5\">\n     <g id=\"line2d_9\">\n      <path clip-path=\"url(#p39b4a7720e)\" d=\"M 425.399098 294.118125 \nL 425.399098 22.318125 \n\" style=\"fill:none;stroke:#b0b0b0;stroke-linecap:square;stroke-width:0.8;\"/>\n     </g>\n     <g id=\"line2d_10\">\n      <g>\n       <use style=\"stroke:#000000;stroke-width:0.8;\" x=\"425.399098\" xlink:href=\"#m68f79a979d\" y=\"294.118125\"/>\n      </g>\n     </g>\n     <g id=\"text_5\">\n      <!-- 4000 -->\n      <g transform=\"translate(412.674098 308.716563)scale(0.1 -0.1)\">\n       <defs>\n        <path d=\"M 37.796875 64.3125 \nL 12.890625 25.390625 \nL 37.796875 25.390625 \nz\nM 35.203125 72.90625 \nL 47.609375 72.90625 \nL 47.609375 25.390625 \nL 58.015625 25.390625 \nL 58.015625 17.1875 \nL 47.609375 17.1875 \nL 47.609375 0 \nL 37.796875 0 \nL 37.796875 17.1875 \nL 4.890625 17.1875 \nL 4.890625 26.703125 \nz\n\" id=\"DejaVuSans-52\"/>\n       </defs>\n       <use xlink:href=\"#DejaVuSans-52\"/>\n       <use x=\"63.623047\" xlink:href=\"#DejaVuSans-48\"/>\n       <use x=\"127.246094\" xlink:href=\"#DejaVuSans-48\"/>\n       <use x=\"190.869141\" xlink:href=\"#DejaVuSans-48\"/>\n      </g>\n     </g>\n    </g>\n    <g id=\"xtick_6\">\n     <g id=\"line2d_11\">\n      <path clip-path=\"url(#p39b4a7720e)\" d=\"M 494.580514 294.118125 \nL 494.580514 22.318125 \n\" style=\"fill:none;stroke:#b0b0b0;stroke-linecap:square;stroke-width:0.8;\"/>\n     </g>\n     <g id=\"line2d_12\">\n      <g>\n       <use style=\"stroke:#000000;stroke-width:0.8;\" x=\"494.580514\" xlink:href=\"#m68f79a979d\" y=\"294.118125\"/>\n      </g>\n     </g>\n     <g id=\"text_6\">\n      <!-- 5000 -->\n      <g transform=\"translate(481.855514 308.716563)scale(0.1 -0.1)\">\n       <defs>\n        <path d=\"M 10.796875 72.90625 \nL 49.515625 72.90625 \nL 49.515625 64.59375 \nL 19.828125 64.59375 \nL 19.828125 46.734375 \nQ 21.96875 47.46875 24.109375 47.828125 \nQ 26.265625 48.1875 28.421875 48.1875 \nQ 40.625 48.1875 47.75 41.5 \nQ 54.890625 34.8125 54.890625 23.390625 \nQ 54.890625 11.625 47.5625 5.09375 \nQ 40.234375 -1.421875 26.90625 -1.421875 \nQ 22.3125 -1.421875 17.546875 -0.640625 \nQ 12.796875 0.140625 7.71875 1.703125 \nL 7.71875 11.625 \nQ 12.109375 9.234375 16.796875 8.0625 \nQ 21.484375 6.890625 26.703125 6.890625 \nQ 35.15625 6.890625 40.078125 11.328125 \nQ 45.015625 15.765625 45.015625 23.390625 \nQ 45.015625 31 40.078125 35.4375 \nQ 35.15625 39.890625 26.703125 39.890625 \nQ 22.75 39.890625 18.8125 39.015625 \nQ 14.890625 38.140625 10.796875 36.28125 \nz\n\" id=\"DejaVuSans-53\"/>\n       </defs>\n       <use xlink:href=\"#DejaVuSans-53\"/>\n       <use x=\"63.623047\" xlink:href=\"#DejaVuSans-48\"/>\n       <use x=\"127.246094\" xlink:href=\"#DejaVuSans-48\"/>\n       <use x=\"190.869141\" xlink:href=\"#DejaVuSans-48\"/>\n      </g>\n     </g>\n    </g>\n    <g id=\"xtick_7\">\n     <g id=\"line2d_13\">\n      <path clip-path=\"url(#p39b4a7720e)\" d=\"M 563.761929 294.118125 \nL 563.761929 22.318125 \n\" style=\"fill:none;stroke:#b0b0b0;stroke-linecap:square;stroke-width:0.8;\"/>\n     </g>\n     <g id=\"line2d_14\">\n      <g>\n       <use style=\"stroke:#000000;stroke-width:0.8;\" x=\"563.761929\" xlink:href=\"#m68f79a979d\" y=\"294.118125\"/>\n      </g>\n     </g>\n     <g id=\"text_7\">\n      <!-- 6000 -->\n      <g transform=\"translate(551.036929 308.716563)scale(0.1 -0.1)\">\n       <defs>\n        <path d=\"M 33.015625 40.375 \nQ 26.375 40.375 22.484375 35.828125 \nQ 18.609375 31.296875 18.609375 23.390625 \nQ 18.609375 15.53125 22.484375 10.953125 \nQ 26.375 6.390625 33.015625 6.390625 \nQ 39.65625 6.390625 43.53125 10.953125 \nQ 47.40625 15.53125 47.40625 23.390625 \nQ 47.40625 31.296875 43.53125 35.828125 \nQ 39.65625 40.375 33.015625 40.375 \nz\nM 52.59375 71.296875 \nL 52.59375 62.3125 \nQ 48.875 64.0625 45.09375 64.984375 \nQ 41.3125 65.921875 37.59375 65.921875 \nQ 27.828125 65.921875 22.671875 59.328125 \nQ 17.53125 52.734375 16.796875 39.40625 \nQ 19.671875 43.65625 24.015625 45.921875 \nQ 28.375 48.1875 33.59375 48.1875 \nQ 44.578125 48.1875 50.953125 41.515625 \nQ 57.328125 34.859375 57.328125 23.390625 \nQ 57.328125 12.15625 50.6875 5.359375 \nQ 44.046875 -1.421875 33.015625 -1.421875 \nQ 20.359375 -1.421875 13.671875 8.265625 \nQ 6.984375 17.96875 6.984375 36.375 \nQ 6.984375 53.65625 15.1875 63.9375 \nQ 23.390625 74.21875 37.203125 74.21875 \nQ 40.921875 74.21875 44.703125 73.484375 \nQ 48.484375 72.75 52.59375 71.296875 \nz\n\" id=\"DejaVuSans-54\"/>\n       </defs>\n       <use xlink:href=\"#DejaVuSans-54\"/>\n       <use x=\"63.623047\" xlink:href=\"#DejaVuSans-48\"/>\n       <use x=\"127.246094\" xlink:href=\"#DejaVuSans-48\"/>\n       <use x=\"190.869141\" xlink:href=\"#DejaVuSans-48\"/>\n      </g>\n     </g>\n    </g>\n    <g id=\"text_8\">\n     <!-- F score -->\n     <g transform=\"translate(353.975781 322.394687)scale(0.1 -0.1)\">\n      <defs>\n       <path d=\"M 9.8125 72.90625 \nL 51.703125 72.90625 \nL 51.703125 64.59375 \nL 19.671875 64.59375 \nL 19.671875 43.109375 \nL 48.578125 43.109375 \nL 48.578125 34.8125 \nL 19.671875 34.8125 \nL 19.671875 0 \nL 9.8125 0 \nz\n\" id=\"DejaVuSans-70\"/>\n       <path id=\"DejaVuSans-32\"/>\n       <path d=\"M 44.28125 53.078125 \nL 44.28125 44.578125 \nQ 40.484375 46.53125 36.375 47.5 \nQ 32.28125 48.484375 27.875 48.484375 \nQ 21.1875 48.484375 17.84375 46.4375 \nQ 14.5 44.390625 14.5 40.28125 \nQ 14.5 37.15625 16.890625 35.375 \nQ 19.28125 33.59375 26.515625 31.984375 \nL 29.59375 31.296875 \nQ 39.15625 29.25 43.1875 25.515625 \nQ 47.21875 21.78125 47.21875 15.09375 \nQ 47.21875 7.46875 41.1875 3.015625 \nQ 35.15625 -1.421875 24.609375 -1.421875 \nQ 20.21875 -1.421875 15.453125 -0.5625 \nQ 10.6875 0.296875 5.421875 2 \nL 5.421875 11.28125 \nQ 10.40625 8.6875 15.234375 7.390625 \nQ 20.0625 6.109375 24.8125 6.109375 \nQ 31.15625 6.109375 34.5625 8.28125 \nQ 37.984375 10.453125 37.984375 14.40625 \nQ 37.984375 18.0625 35.515625 20.015625 \nQ 33.0625 21.96875 24.703125 23.78125 \nL 21.578125 24.515625 \nQ 13.234375 26.265625 9.515625 29.90625 \nQ 5.8125 33.546875 5.8125 39.890625 \nQ 5.8125 47.609375 11.28125 51.796875 \nQ 16.75 56 26.8125 56 \nQ 31.78125 56 36.171875 55.265625 \nQ 40.578125 54.546875 44.28125 53.078125 \nz\n\" id=\"DejaVuSans-115\"/>\n       <path d=\"M 48.78125 52.59375 \nL 48.78125 44.1875 \nQ 44.96875 46.296875 41.140625 47.34375 \nQ 37.3125 48.390625 33.40625 48.390625 \nQ 24.65625 48.390625 19.8125 42.84375 \nQ 14.984375 37.3125 14.984375 27.296875 \nQ 14.984375 17.28125 19.8125 11.734375 \nQ 24.65625 6.203125 33.40625 6.203125 \nQ 37.3125 6.203125 41.140625 7.25 \nQ 44.96875 8.296875 48.78125 10.40625 \nL 48.78125 2.09375 \nQ 45.015625 0.34375 40.984375 -0.53125 \nQ 36.96875 -1.421875 32.421875 -1.421875 \nQ 20.0625 -1.421875 12.78125 6.34375 \nQ 5.515625 14.109375 5.515625 27.296875 \nQ 5.515625 40.671875 12.859375 48.328125 \nQ 20.21875 56 33.015625 56 \nQ 37.15625 56 41.109375 55.140625 \nQ 45.0625 54.296875 48.78125 52.59375 \nz\n\" id=\"DejaVuSans-99\"/>\n       <path d=\"M 30.609375 48.390625 \nQ 23.390625 48.390625 19.1875 42.75 \nQ 14.984375 37.109375 14.984375 27.296875 \nQ 14.984375 17.484375 19.15625 11.84375 \nQ 23.34375 6.203125 30.609375 6.203125 \nQ 37.796875 6.203125 41.984375 11.859375 \nQ 46.1875 17.53125 46.1875 27.296875 \nQ 46.1875 37.015625 41.984375 42.703125 \nQ 37.796875 48.390625 30.609375 48.390625 \nz\nM 30.609375 56 \nQ 42.328125 56 49.015625 48.375 \nQ 55.71875 40.765625 55.71875 27.296875 \nQ 55.71875 13.875 49.015625 6.21875 \nQ 42.328125 -1.421875 30.609375 -1.421875 \nQ 18.84375 -1.421875 12.171875 6.21875 \nQ 5.515625 13.875 5.515625 27.296875 \nQ 5.515625 40.765625 12.171875 48.375 \nQ 18.84375 56 30.609375 56 \nz\n\" id=\"DejaVuSans-111\"/>\n       <path d=\"M 41.109375 46.296875 \nQ 39.59375 47.171875 37.8125 47.578125 \nQ 36.03125 48 33.890625 48 \nQ 26.265625 48 22.1875 43.046875 \nQ 18.109375 38.09375 18.109375 28.8125 \nL 18.109375 0 \nL 9.078125 0 \nL 9.078125 54.6875 \nL 18.109375 54.6875 \nL 18.109375 46.1875 \nQ 20.953125 51.171875 25.484375 53.578125 \nQ 30.03125 56 36.53125 56 \nQ 37.453125 56 38.578125 55.875 \nQ 39.703125 55.765625 41.0625 55.515625 \nz\n\" id=\"DejaVuSans-114\"/>\n       <path d=\"M 56.203125 29.59375 \nL 56.203125 25.203125 \nL 14.890625 25.203125 \nQ 15.484375 15.921875 20.484375 11.0625 \nQ 25.484375 6.203125 34.421875 6.203125 \nQ 39.59375 6.203125 44.453125 7.46875 \nQ 49.3125 8.734375 54.109375 11.28125 \nL 54.109375 2.78125 \nQ 49.265625 0.734375 44.1875 -0.34375 \nQ 39.109375 -1.421875 33.890625 -1.421875 \nQ 20.796875 -1.421875 13.15625 6.1875 \nQ 5.515625 13.8125 5.515625 26.8125 \nQ 5.515625 40.234375 12.765625 48.109375 \nQ 20.015625 56 32.328125 56 \nQ 43.359375 56 49.78125 48.890625 \nQ 56.203125 41.796875 56.203125 29.59375 \nz\nM 47.21875 32.234375 \nQ 47.125 39.59375 43.09375 43.984375 \nQ 39.0625 48.390625 32.421875 48.390625 \nQ 24.90625 48.390625 20.390625 44.140625 \nQ 15.875 39.890625 15.1875 32.171875 \nz\n\" id=\"DejaVuSans-101\"/>\n      </defs>\n      <use xlink:href=\"#DejaVuSans-70\"/>\n      <use x=\"57.519531\" xlink:href=\"#DejaVuSans-32\"/>\n      <use x=\"89.306641\" xlink:href=\"#DejaVuSans-115\"/>\n      <use x=\"141.40625\" xlink:href=\"#DejaVuSans-99\"/>\n      <use x=\"196.386719\" xlink:href=\"#DejaVuSans-111\"/>\n      <use x=\"257.568359\" xlink:href=\"#DejaVuSans-114\"/>\n      <use x=\"296.431641\" xlink:href=\"#DejaVuSans-101\"/>\n     </g>\n    </g>\n   </g>\n   <g id=\"matplotlib.axis_2\">\n    <g id=\"ytick_1\">\n     <g id=\"line2d_15\">\n      <path clip-path=\"url(#p39b4a7720e)\" d=\"M 148.673438 255.289554 \nL 595.073437 255.289554 \n\" style=\"fill:none;stroke:#b0b0b0;stroke-linecap:square;stroke-width:0.8;\"/>\n     </g>\n     <g id=\"line2d_16\">\n      <defs>\n       <path d=\"M 0 0 \nL -3.5 0 \n\" id=\"mb8de6c88e4\" style=\"stroke:#000000;stroke-width:0.8;\"/>\n      </defs>\n      <g>\n       <use style=\"stroke:#000000;stroke-width:0.8;\" x=\"148.673438\" xlink:href=\"#mb8de6c88e4\" y=\"255.289554\"/>\n      </g>\n     </g>\n     <g id=\"text_9\">\n      <!-- Marvel -->\n      <g transform=\"translate(107.95625 259.088772)scale(0.1 -0.1)\">\n       <defs>\n        <path d=\"M 9.8125 72.90625 \nL 24.515625 72.90625 \nL 43.109375 23.296875 \nL 61.8125 72.90625 \nL 76.515625 72.90625 \nL 76.515625 0 \nL 66.890625 0 \nL 66.890625 64.015625 \nL 48.09375 14.015625 \nL 38.1875 14.015625 \nL 19.390625 64.015625 \nL 19.390625 0 \nL 9.8125 0 \nz\n\" id=\"DejaVuSans-77\"/>\n        <path d=\"M 34.28125 27.484375 \nQ 23.390625 27.484375 19.1875 25 \nQ 14.984375 22.515625 14.984375 16.5 \nQ 14.984375 11.71875 18.140625 8.90625 \nQ 21.296875 6.109375 26.703125 6.109375 \nQ 34.1875 6.109375 38.703125 11.40625 \nQ 43.21875 16.703125 43.21875 25.484375 \nL 43.21875 27.484375 \nz\nM 52.203125 31.203125 \nL 52.203125 0 \nL 43.21875 0 \nL 43.21875 8.296875 \nQ 40.140625 3.328125 35.546875 0.953125 \nQ 30.953125 -1.421875 24.3125 -1.421875 \nQ 15.921875 -1.421875 10.953125 3.296875 \nQ 6 8.015625 6 15.921875 \nQ 6 25.140625 12.171875 29.828125 \nQ 18.359375 34.515625 30.609375 34.515625 \nL 43.21875 34.515625 \nL 43.21875 35.40625 \nQ 43.21875 41.609375 39.140625 45 \nQ 35.0625 48.390625 27.6875 48.390625 \nQ 23 48.390625 18.546875 47.265625 \nQ 14.109375 46.140625 10.015625 43.890625 \nL 10.015625 52.203125 \nQ 14.9375 54.109375 19.578125 55.046875 \nQ 24.21875 56 28.609375 56 \nQ 40.484375 56 46.34375 49.84375 \nQ 52.203125 43.703125 52.203125 31.203125 \nz\n\" id=\"DejaVuSans-97\"/>\n        <path d=\"M 2.984375 54.6875 \nL 12.5 54.6875 \nL 29.59375 8.796875 \nL 46.6875 54.6875 \nL 56.203125 54.6875 \nL 35.6875 0 \nL 23.484375 0 \nz\n\" id=\"DejaVuSans-118\"/>\n        <path d=\"M 9.421875 75.984375 \nL 18.40625 75.984375 \nL 18.40625 0 \nL 9.421875 0 \nz\n\" id=\"DejaVuSans-108\"/>\n       </defs>\n       <use xlink:href=\"#DejaVuSans-77\"/>\n       <use x=\"86.279297\" xlink:href=\"#DejaVuSans-97\"/>\n       <use x=\"147.558594\" xlink:href=\"#DejaVuSans-114\"/>\n       <use x=\"188.671875\" xlink:href=\"#DejaVuSans-118\"/>\n       <use x=\"247.851562\" xlink:href=\"#DejaVuSans-101\"/>\n       <use x=\"309.375\" xlink:href=\"#DejaVuSans-108\"/>\n      </g>\n     </g>\n    </g>\n    <g id=\"ytick_2\">\n     <g id=\"line2d_17\">\n      <path clip-path=\"url(#p39b4a7720e)\" d=\"M 148.673438 216.460982 \nL 595.073437 216.460982 \n\" style=\"fill:none;stroke:#b0b0b0;stroke-linecap:square;stroke-width:0.8;\"/>\n     </g>\n     <g id=\"line2d_18\">\n      <g>\n       <use style=\"stroke:#000000;stroke-width:0.8;\" x=\"148.673438\" xlink:href=\"#mb8de6c88e4\" y=\"216.460982\"/>\n      </g>\n     </g>\n     <g id=\"text_10\">\n      <!-- first_issue -->\n      <g transform=\"translate(91.446875 220.260201)scale(0.1 -0.1)\">\n       <defs>\n        <path d=\"M 37.109375 75.984375 \nL 37.109375 68.5 \nL 28.515625 68.5 \nQ 23.6875 68.5 21.796875 66.546875 \nQ 19.921875 64.59375 19.921875 59.515625 \nL 19.921875 54.6875 \nL 34.71875 54.6875 \nL 34.71875 47.703125 \nL 19.921875 47.703125 \nL 19.921875 0 \nL 10.890625 0 \nL 10.890625 47.703125 \nL 2.296875 47.703125 \nL 2.296875 54.6875 \nL 10.890625 54.6875 \nL 10.890625 58.5 \nQ 10.890625 67.625 15.140625 71.796875 \nQ 19.390625 75.984375 28.609375 75.984375 \nz\n\" id=\"DejaVuSans-102\"/>\n        <path d=\"M 9.421875 54.6875 \nL 18.40625 54.6875 \nL 18.40625 0 \nL 9.421875 0 \nz\nM 9.421875 75.984375 \nL 18.40625 75.984375 \nL 18.40625 64.59375 \nL 9.421875 64.59375 \nz\n\" id=\"DejaVuSans-105\"/>\n        <path d=\"M 18.3125 70.21875 \nL 18.3125 54.6875 \nL 36.8125 54.6875 \nL 36.8125 47.703125 \nL 18.3125 47.703125 \nL 18.3125 18.015625 \nQ 18.3125 11.328125 20.140625 9.421875 \nQ 21.96875 7.515625 27.59375 7.515625 \nL 36.8125 7.515625 \nL 36.8125 0 \nL 27.59375 0 \nQ 17.1875 0 13.234375 3.875 \nQ 9.28125 7.765625 9.28125 18.015625 \nL 9.28125 47.703125 \nL 2.6875 47.703125 \nL 2.6875 54.6875 \nL 9.28125 54.6875 \nL 9.28125 70.21875 \nz\n\" id=\"DejaVuSans-116\"/>\n        <path d=\"M 50.984375 -16.609375 \nL 50.984375 -23.578125 \nL -0.984375 -23.578125 \nL -0.984375 -16.609375 \nz\n\" id=\"DejaVuSans-95\"/>\n        <path d=\"M 8.5 21.578125 \nL 8.5 54.6875 \nL 17.484375 54.6875 \nL 17.484375 21.921875 \nQ 17.484375 14.15625 20.5 10.265625 \nQ 23.53125 6.390625 29.59375 6.390625 \nQ 36.859375 6.390625 41.078125 11.03125 \nQ 45.3125 15.671875 45.3125 23.6875 \nL 45.3125 54.6875 \nL 54.296875 54.6875 \nL 54.296875 0 \nL 45.3125 0 \nL 45.3125 8.40625 \nQ 42.046875 3.421875 37.71875 1 \nQ 33.40625 -1.421875 27.6875 -1.421875 \nQ 18.265625 -1.421875 13.375 4.4375 \nQ 8.5 10.296875 8.5 21.578125 \nz\nM 31.109375 56 \nz\n\" id=\"DejaVuSans-117\"/>\n       </defs>\n       <use xlink:href=\"#DejaVuSans-102\"/>\n       <use x=\"35.205078\" xlink:href=\"#DejaVuSans-105\"/>\n       <use x=\"62.988281\" xlink:href=\"#DejaVuSans-114\"/>\n       <use x=\"104.101562\" xlink:href=\"#DejaVuSans-115\"/>\n       <use x=\"156.201172\" xlink:href=\"#DejaVuSans-116\"/>\n       <use x=\"195.410156\" xlink:href=\"#DejaVuSans-95\"/>\n       <use x=\"245.410156\" xlink:href=\"#DejaVuSans-105\"/>\n       <use x=\"273.193359\" xlink:href=\"#DejaVuSans-115\"/>\n       <use x=\"325.292969\" xlink:href=\"#DejaVuSans-115\"/>\n       <use x=\"377.392578\" xlink:href=\"#DejaVuSans-117\"/>\n       <use x=\"440.771484\" xlink:href=\"#DejaVuSans-101\"/>\n      </g>\n     </g>\n    </g>\n    <g id=\"ytick_3\">\n     <g id=\"line2d_19\">\n      <path clip-path=\"url(#p39b4a7720e)\" d=\"M 148.673438 177.632411 \nL 595.073437 177.632411 \n\" style=\"fill:none;stroke:#b0b0b0;stroke-linecap:square;stroke-width:0.8;\"/>\n     </g>\n     <g id=\"line2d_20\">\n      <g>\n       <use style=\"stroke:#000000;stroke-width:0.8;\" x=\"148.673438\" xlink:href=\"#mb8de6c88e4\" y=\"177.632411\"/>\n      </g>\n     </g>\n     <g id=\"text_11\">\n      <!-- DC -->\n      <g transform=\"translate(126.990625 181.431629)scale(0.1 -0.1)\">\n       <defs>\n        <path d=\"M 19.671875 64.796875 \nL 19.671875 8.109375 \nL 31.59375 8.109375 \nQ 46.6875 8.109375 53.6875 14.9375 \nQ 60.6875 21.78125 60.6875 36.53125 \nQ 60.6875 51.171875 53.6875 57.984375 \nQ 46.6875 64.796875 31.59375 64.796875 \nz\nM 9.8125 72.90625 \nL 30.078125 72.90625 \nQ 51.265625 72.90625 61.171875 64.09375 \nQ 71.09375 55.28125 71.09375 36.53125 \nQ 71.09375 17.671875 61.125 8.828125 \nQ 51.171875 0 30.078125 0 \nL 9.8125 0 \nz\n\" id=\"DejaVuSans-68\"/>\n        <path d=\"M 64.40625 67.28125 \nL 64.40625 56.890625 \nQ 59.421875 61.53125 53.78125 63.8125 \nQ 48.140625 66.109375 41.796875 66.109375 \nQ 29.296875 66.109375 22.65625 58.46875 \nQ 16.015625 50.828125 16.015625 36.375 \nQ 16.015625 21.96875 22.65625 14.328125 \nQ 29.296875 6.6875 41.796875 6.6875 \nQ 48.140625 6.6875 53.78125 8.984375 \nQ 59.421875 11.28125 64.40625 15.921875 \nL 64.40625 5.609375 \nQ 59.234375 2.09375 53.4375 0.328125 \nQ 47.65625 -1.421875 41.21875 -1.421875 \nQ 24.65625 -1.421875 15.125 8.703125 \nQ 5.609375 18.84375 5.609375 36.375 \nQ 5.609375 53.953125 15.125 64.078125 \nQ 24.65625 74.21875 41.21875 74.21875 \nQ 47.75 74.21875 53.53125 72.484375 \nQ 59.328125 70.75 64.40625 67.28125 \nz\n\" id=\"DejaVuSans-67\"/>\n       </defs>\n       <use xlink:href=\"#DejaVuSans-68\"/>\n       <use x=\"77.001953\" xlink:href=\"#DejaVuSans-67\"/>\n      </g>\n     </g>\n    </g>\n    <g id=\"ytick_4\">\n     <g id=\"line2d_21\">\n      <path clip-path=\"url(#p39b4a7720e)\" d=\"M 148.673438 138.803839 \nL 595.073437 138.803839 \n\" style=\"fill:none;stroke:#b0b0b0;stroke-linecap:square;stroke-width:0.8;\"/>\n     </g>\n     <g id=\"line2d_22\">\n      <g>\n       <use style=\"stroke:#000000;stroke-width:0.8;\" x=\"148.673438\" xlink:href=\"#mb8de6c88e4\" y=\"138.803839\"/>\n      </g>\n     </g>\n     <g id=\"text_12\">\n      <!-- distance -->\n      <g transform=\"translate(99.3 142.603058)scale(0.1 -0.1)\">\n       <defs>\n        <path d=\"M 45.40625 46.390625 \nL 45.40625 75.984375 \nL 54.390625 75.984375 \nL 54.390625 0 \nL 45.40625 0 \nL 45.40625 8.203125 \nQ 42.578125 3.328125 38.25 0.953125 \nQ 33.9375 -1.421875 27.875 -1.421875 \nQ 17.96875 -1.421875 11.734375 6.484375 \nQ 5.515625 14.40625 5.515625 27.296875 \nQ 5.515625 40.1875 11.734375 48.09375 \nQ 17.96875 56 27.875 56 \nQ 33.9375 56 38.25 53.625 \nQ 42.578125 51.265625 45.40625 46.390625 \nz\nM 14.796875 27.296875 \nQ 14.796875 17.390625 18.875 11.75 \nQ 22.953125 6.109375 30.078125 6.109375 \nQ 37.203125 6.109375 41.296875 11.75 \nQ 45.40625 17.390625 45.40625 27.296875 \nQ 45.40625 37.203125 41.296875 42.84375 \nQ 37.203125 48.484375 30.078125 48.484375 \nQ 22.953125 48.484375 18.875 42.84375 \nQ 14.796875 37.203125 14.796875 27.296875 \nz\n\" id=\"DejaVuSans-100\"/>\n        <path d=\"M 54.890625 33.015625 \nL 54.890625 0 \nL 45.90625 0 \nL 45.90625 32.71875 \nQ 45.90625 40.484375 42.875 44.328125 \nQ 39.84375 48.1875 33.796875 48.1875 \nQ 26.515625 48.1875 22.3125 43.546875 \nQ 18.109375 38.921875 18.109375 30.90625 \nL 18.109375 0 \nL 9.078125 0 \nL 9.078125 54.6875 \nL 18.109375 54.6875 \nL 18.109375 46.1875 \nQ 21.34375 51.125 25.703125 53.5625 \nQ 30.078125 56 35.796875 56 \nQ 45.21875 56 50.046875 50.171875 \nQ 54.890625 44.34375 54.890625 33.015625 \nz\n\" id=\"DejaVuSans-110\"/>\n       </defs>\n       <use xlink:href=\"#DejaVuSans-100\"/>\n       <use x=\"63.476562\" xlink:href=\"#DejaVuSans-105\"/>\n       <use x=\"91.259766\" xlink:href=\"#DejaVuSans-115\"/>\n       <use x=\"143.359375\" xlink:href=\"#DejaVuSans-116\"/>\n       <use x=\"182.568359\" xlink:href=\"#DejaVuSans-97\"/>\n       <use x=\"243.847656\" xlink:href=\"#DejaVuSans-110\"/>\n       <use x=\"307.226562\" xlink:href=\"#DejaVuSans-99\"/>\n       <use x=\"362.207031\" xlink:href=\"#DejaVuSans-101\"/>\n      </g>\n     </g>\n    </g>\n    <g id=\"ytick_5\">\n     <g id=\"line2d_23\">\n      <path clip-path=\"url(#p39b4a7720e)\" d=\"M 148.673438 99.975268 \nL 595.073437 99.975268 \n\" style=\"fill:none;stroke:#b0b0b0;stroke-linecap:square;stroke-width:0.8;\"/>\n     </g>\n     <g id=\"line2d_24\">\n      <g>\n       <use style=\"stroke:#000000;stroke-width:0.8;\" x=\"148.673438\" xlink:href=\"#mb8de6c88e4\" y=\"99.975268\"/>\n      </g>\n     </g>\n     <g id=\"text_13\">\n      <!-- pages -->\n      <g transform=\"translate(111.485938 103.774487)scale(0.1 -0.1)\">\n       <defs>\n        <path d=\"M 18.109375 8.203125 \nL 18.109375 -20.796875 \nL 9.078125 -20.796875 \nL 9.078125 54.6875 \nL 18.109375 54.6875 \nL 18.109375 46.390625 \nQ 20.953125 51.265625 25.265625 53.625 \nQ 29.59375 56 35.59375 56 \nQ 45.5625 56 51.78125 48.09375 \nQ 58.015625 40.1875 58.015625 27.296875 \nQ 58.015625 14.40625 51.78125 6.484375 \nQ 45.5625 -1.421875 35.59375 -1.421875 \nQ 29.59375 -1.421875 25.265625 0.953125 \nQ 20.953125 3.328125 18.109375 8.203125 \nz\nM 48.6875 27.296875 \nQ 48.6875 37.203125 44.609375 42.84375 \nQ 40.53125 48.484375 33.40625 48.484375 \nQ 26.265625 48.484375 22.1875 42.84375 \nQ 18.109375 37.203125 18.109375 27.296875 \nQ 18.109375 17.390625 22.1875 11.75 \nQ 26.265625 6.109375 33.40625 6.109375 \nQ 40.53125 6.109375 44.609375 11.75 \nQ 48.6875 17.390625 48.6875 27.296875 \nz\n\" id=\"DejaVuSans-112\"/>\n        <path d=\"M 45.40625 27.984375 \nQ 45.40625 37.75 41.375 43.109375 \nQ 37.359375 48.484375 30.078125 48.484375 \nQ 22.859375 48.484375 18.828125 43.109375 \nQ 14.796875 37.75 14.796875 27.984375 \nQ 14.796875 18.265625 18.828125 12.890625 \nQ 22.859375 7.515625 30.078125 7.515625 \nQ 37.359375 7.515625 41.375 12.890625 \nQ 45.40625 18.265625 45.40625 27.984375 \nz\nM 54.390625 6.78125 \nQ 54.390625 -7.171875 48.1875 -13.984375 \nQ 42 -20.796875 29.203125 -20.796875 \nQ 24.46875 -20.796875 20.265625 -20.09375 \nQ 16.0625 -19.390625 12.109375 -17.921875 \nL 12.109375 -9.1875 \nQ 16.0625 -11.328125 19.921875 -12.34375 \nQ 23.78125 -13.375 27.78125 -13.375 \nQ 36.625 -13.375 41.015625 -8.765625 \nQ 45.40625 -4.15625 45.40625 5.171875 \nL 45.40625 9.625 \nQ 42.625 4.78125 38.28125 2.390625 \nQ 33.9375 0 27.875 0 \nQ 17.828125 0 11.671875 7.65625 \nQ 5.515625 15.328125 5.515625 27.984375 \nQ 5.515625 40.671875 11.671875 48.328125 \nQ 17.828125 56 27.875 56 \nQ 33.9375 56 38.28125 53.609375 \nQ 42.625 51.21875 45.40625 46.390625 \nL 45.40625 54.6875 \nL 54.390625 54.6875 \nz\n\" id=\"DejaVuSans-103\"/>\n       </defs>\n       <use xlink:href=\"#DejaVuSans-112\"/>\n       <use x=\"63.476562\" xlink:href=\"#DejaVuSans-97\"/>\n       <use x=\"124.755859\" xlink:href=\"#DejaVuSans-103\"/>\n       <use x=\"188.232422\" xlink:href=\"#DejaVuSans-101\"/>\n       <use x=\"249.755859\" xlink:href=\"#DejaVuSans-115\"/>\n      </g>\n     </g>\n    </g>\n    <g id=\"ytick_6\">\n     <g id=\"line2d_25\">\n      <path clip-path=\"url(#p39b4a7720e)\" d=\"M 148.673438 61.146696 \nL 595.073437 61.146696 \n\" style=\"fill:none;stroke:#b0b0b0;stroke-linecap:square;stroke-width:0.8;\"/>\n     </g>\n     <g id=\"line2d_26\">\n      <g>\n       <use style=\"stroke:#000000;stroke-width:0.8;\" x=\"148.673438\" xlink:href=\"#mb8de6c88e4\" y=\"61.146696\"/>\n      </g>\n     </g>\n     <g id=\"text_14\">\n      <!-- volume_count_of_issues -->\n      <g transform=\"translate(20.878125 64.945915)scale(0.1 -0.1)\">\n       <defs>\n        <path d=\"M 52 44.1875 \nQ 55.375 50.25 60.0625 53.125 \nQ 64.75 56 71.09375 56 \nQ 79.640625 56 84.28125 50.015625 \nQ 88.921875 44.046875 88.921875 33.015625 \nL 88.921875 0 \nL 79.890625 0 \nL 79.890625 32.71875 \nQ 79.890625 40.578125 77.09375 44.375 \nQ 74.3125 48.1875 68.609375 48.1875 \nQ 61.625 48.1875 57.5625 43.546875 \nQ 53.515625 38.921875 53.515625 30.90625 \nL 53.515625 0 \nL 44.484375 0 \nL 44.484375 32.71875 \nQ 44.484375 40.625 41.703125 44.40625 \nQ 38.921875 48.1875 33.109375 48.1875 \nQ 26.21875 48.1875 22.15625 43.53125 \nQ 18.109375 38.875 18.109375 30.90625 \nL 18.109375 0 \nL 9.078125 0 \nL 9.078125 54.6875 \nL 18.109375 54.6875 \nL 18.109375 46.1875 \nQ 21.1875 51.21875 25.484375 53.609375 \nQ 29.78125 56 35.6875 56 \nQ 41.65625 56 45.828125 52.96875 \nQ 50 49.953125 52 44.1875 \nz\n\" id=\"DejaVuSans-109\"/>\n       </defs>\n       <use xlink:href=\"#DejaVuSans-118\"/>\n       <use x=\"59.179688\" xlink:href=\"#DejaVuSans-111\"/>\n       <use x=\"120.361328\" xlink:href=\"#DejaVuSans-108\"/>\n       <use x=\"148.144531\" xlink:href=\"#DejaVuSans-117\"/>\n       <use x=\"211.523438\" xlink:href=\"#DejaVuSans-109\"/>\n       <use x=\"308.935547\" xlink:href=\"#DejaVuSans-101\"/>\n       <use x=\"370.458984\" xlink:href=\"#DejaVuSans-95\"/>\n       <use x=\"420.458984\" xlink:href=\"#DejaVuSans-99\"/>\n       <use x=\"475.439453\" xlink:href=\"#DejaVuSans-111\"/>\n       <use x=\"536.621094\" xlink:href=\"#DejaVuSans-117\"/>\n       <use x=\"600\" xlink:href=\"#DejaVuSans-110\"/>\n       <use x=\"663.378906\" xlink:href=\"#DejaVuSans-116\"/>\n       <use x=\"702.587891\" xlink:href=\"#DejaVuSans-95\"/>\n       <use x=\"752.587891\" xlink:href=\"#DejaVuSans-111\"/>\n       <use x=\"813.769531\" xlink:href=\"#DejaVuSans-102\"/>\n       <use x=\"848.974609\" xlink:href=\"#DejaVuSans-95\"/>\n       <use x=\"898.974609\" xlink:href=\"#DejaVuSans-105\"/>\n       <use x=\"926.757812\" xlink:href=\"#DejaVuSans-115\"/>\n       <use x=\"978.857422\" xlink:href=\"#DejaVuSans-115\"/>\n       <use x=\"1030.957031\" xlink:href=\"#DejaVuSans-117\"/>\n       <use x=\"1094.335938\" xlink:href=\"#DejaVuSans-101\"/>\n       <use x=\"1155.859375\" xlink:href=\"#DejaVuSans-115\"/>\n      </g>\n     </g>\n    </g>\n    <g id=\"text_15\">\n     <!-- Features -->\n     <g transform=\"translate(14.798438 179.712656)rotate(-90)scale(0.1 -0.1)\">\n      <use xlink:href=\"#DejaVuSans-70\"/>\n      <use x=\"52.019531\" xlink:href=\"#DejaVuSans-101\"/>\n      <use x=\"113.542969\" xlink:href=\"#DejaVuSans-97\"/>\n      <use x=\"174.822266\" xlink:href=\"#DejaVuSans-116\"/>\n      <use x=\"214.03125\" xlink:href=\"#DejaVuSans-117\"/>\n      <use x=\"277.410156\" xlink:href=\"#DejaVuSans-114\"/>\n      <use x=\"316.273438\" xlink:href=\"#DejaVuSans-101\"/>\n      <use x=\"377.796875\" xlink:href=\"#DejaVuSans-115\"/>\n     </g>\n    </g>\n   </g>\n   <g id=\"patch_9\">\n    <path d=\"M 148.673438 294.118125 \nL 148.673438 22.318125 \n\" style=\"fill:none;stroke:#000000;stroke-linecap:square;stroke-linejoin:miter;stroke-width:0.8;\"/>\n   </g>\n   <g id=\"patch_10\">\n    <path d=\"M 595.073437 294.118125 \nL 595.073437 22.318125 \n\" style=\"fill:none;stroke:#000000;stroke-linecap:square;stroke-linejoin:miter;stroke-width:0.8;\"/>\n   </g>\n   <g id=\"patch_11\">\n    <path d=\"M 148.673438 294.118125 \nL 595.073437 294.118125 \n\" style=\"fill:none;stroke:#000000;stroke-linecap:square;stroke-linejoin:miter;stroke-width:0.8;\"/>\n   </g>\n   <g id=\"patch_12\">\n    <path d=\"M 148.673438 22.318125 \nL 595.073437 22.318125 \n\" style=\"fill:none;stroke:#000000;stroke-linecap:square;stroke-linejoin:miter;stroke-width:0.8;\"/>\n   </g>\n   <g id=\"text_16\">\n    <!-- 254 -->\n    <g transform=\"translate(166.314698 258.048929)scale(0.1 -0.1)\">\n     <use xlink:href=\"#DejaVuSans-50\"/>\n     <use x=\"63.623047\" xlink:href=\"#DejaVuSans-53\"/>\n     <use x=\"127.246094\" xlink:href=\"#DejaVuSans-52\"/>\n    </g>\n   </g>\n   <g id=\"text_17\">\n    <!-- 327 -->\n    <g transform=\"translate(171.364942 219.220357)scale(0.1 -0.1)\">\n     <defs>\n      <path d=\"M 8.203125 72.90625 \nL 55.078125 72.90625 \nL 55.078125 68.703125 \nL 28.609375 0 \nL 18.3125 0 \nL 43.21875 64.59375 \nL 8.203125 64.59375 \nz\n\" id=\"DejaVuSans-55\"/>\n     </defs>\n     <use xlink:href=\"#DejaVuSans-51\"/>\n     <use x=\"63.623047\" xlink:href=\"#DejaVuSans-50\"/>\n     <use x=\"127.246094\" xlink:href=\"#DejaVuSans-55\"/>\n    </g>\n   </g>\n   <g id=\"text_18\">\n    <!-- 328 -->\n    <g transform=\"translate(171.434123 180.391786)scale(0.1 -0.1)\">\n     <defs>\n      <path d=\"M 31.78125 34.625 \nQ 24.75 34.625 20.71875 30.859375 \nQ 16.703125 27.09375 16.703125 20.515625 \nQ 16.703125 13.921875 20.71875 10.15625 \nQ 24.75 6.390625 31.78125 6.390625 \nQ 38.8125 6.390625 42.859375 10.171875 \nQ 46.921875 13.96875 46.921875 20.515625 \nQ 46.921875 27.09375 42.890625 30.859375 \nQ 38.875 34.625 31.78125 34.625 \nz\nM 21.921875 38.8125 \nQ 15.578125 40.375 12.03125 44.71875 \nQ 8.5 49.078125 8.5 55.328125 \nQ 8.5 64.0625 14.71875 69.140625 \nQ 20.953125 74.21875 31.78125 74.21875 \nQ 42.671875 74.21875 48.875 69.140625 \nQ 55.078125 64.0625 55.078125 55.328125 \nQ 55.078125 49.078125 51.53125 44.71875 \nQ 48 40.375 41.703125 38.8125 \nQ 48.828125 37.15625 52.796875 32.3125 \nQ 56.78125 27.484375 56.78125 20.515625 \nQ 56.78125 9.90625 50.3125 4.234375 \nQ 43.84375 -1.421875 31.78125 -1.421875 \nQ 19.734375 -1.421875 13.25 4.234375 \nQ 6.78125 9.90625 6.78125 20.515625 \nQ 6.78125 27.484375 10.78125 32.3125 \nQ 14.796875 37.15625 21.921875 38.8125 \nz\nM 18.3125 54.390625 \nQ 18.3125 48.734375 21.84375 45.5625 \nQ 25.390625 42.390625 31.78125 42.390625 \nQ 38.140625 42.390625 41.71875 45.5625 \nQ 45.3125 48.734375 45.3125 54.390625 \nQ 45.3125 60.0625 41.71875 63.234375 \nQ 38.140625 66.40625 31.78125 66.40625 \nQ 25.390625 66.40625 21.84375 63.234375 \nQ 18.3125 60.0625 18.3125 54.390625 \nz\n\" id=\"DejaVuSans-56\"/>\n     </defs>\n     <use xlink:href=\"#DejaVuSans-51\"/>\n     <use x=\"63.623047\" xlink:href=\"#DejaVuSans-50\"/>\n     <use x=\"127.246094\" xlink:href=\"#DejaVuSans-56\"/>\n    </g>\n   </g>\n   <g id=\"text_19\">\n    <!-- 1822 -->\n    <g transform=\"translate(274.791157 141.563214)scale(0.1 -0.1)\">\n     <use xlink:href=\"#DejaVuSans-49\"/>\n     <use x=\"63.623047\" xlink:href=\"#DejaVuSans-56\"/>\n     <use x=\"127.246094\" xlink:href=\"#DejaVuSans-50\"/>\n     <use x=\"190.869141\" xlink:href=\"#DejaVuSans-50\"/>\n    </g>\n   </g>\n   <g id=\"text_20\">\n    <!-- 5063 -->\n    <g transform=\"translate(499.008124 102.734643)scale(0.1 -0.1)\">\n     <use xlink:href=\"#DejaVuSans-53\"/>\n     <use x=\"63.623047\" xlink:href=\"#DejaVuSans-48\"/>\n     <use x=\"127.246094\" xlink:href=\"#DejaVuSans-54\"/>\n     <use x=\"190.869141\" xlink:href=\"#DejaVuSans-51\"/>\n    </g>\n   </g>\n   <g id=\"text_21\">\n    <!-- 5866 -->\n    <g transform=\"translate(554.560801 63.906071)scale(0.1 -0.1)\">\n     <use xlink:href=\"#DejaVuSans-53\"/>\n     <use x=\"63.623047\" xlink:href=\"#DejaVuSans-56\"/>\n     <use x=\"127.246094\" xlink:href=\"#DejaVuSans-54\"/>\n     <use x=\"190.869141\" xlink:href=\"#DejaVuSans-54\"/>\n    </g>\n   </g>\n   <g id=\"text_22\">\n    <!-- Features importance - XGBoost -->\n    <g transform=\"translate(278.218125 16.318125)scale(0.12 -0.12)\">\n     <defs>\n      <path d=\"M 4.890625 31.390625 \nL 31.203125 31.390625 \nL 31.203125 23.390625 \nL 4.890625 23.390625 \nz\n\" id=\"DejaVuSans-45\"/>\n      <path d=\"M 6.296875 72.90625 \nL 16.890625 72.90625 \nL 35.015625 45.796875 \nL 53.21875 72.90625 \nL 63.8125 72.90625 \nL 40.375 37.890625 \nL 65.375 0 \nL 54.78125 0 \nL 34.28125 31 \nL 13.625 0 \nL 2.984375 0 \nL 29 38.921875 \nz\n\" id=\"DejaVuSans-88\"/>\n      <path d=\"M 59.515625 10.40625 \nL 59.515625 29.984375 \nL 43.40625 29.984375 \nL 43.40625 38.09375 \nL 69.28125 38.09375 \nL 69.28125 6.78125 \nQ 63.578125 2.734375 56.6875 0.65625 \nQ 49.8125 -1.421875 42 -1.421875 \nQ 24.90625 -1.421875 15.25 8.5625 \nQ 5.609375 18.5625 5.609375 36.375 \nQ 5.609375 54.25 15.25 64.234375 \nQ 24.90625 74.21875 42 74.21875 \nQ 49.125 74.21875 55.546875 72.453125 \nQ 61.96875 70.703125 67.390625 67.28125 \nL 67.390625 56.78125 \nQ 61.921875 61.421875 55.765625 63.765625 \nQ 49.609375 66.109375 42.828125 66.109375 \nQ 29.4375 66.109375 22.71875 58.640625 \nQ 16.015625 51.171875 16.015625 36.375 \nQ 16.015625 21.625 22.71875 14.15625 \nQ 29.4375 6.6875 42.828125 6.6875 \nQ 48.046875 6.6875 52.140625 7.59375 \nQ 56.25 8.5 59.515625 10.40625 \nz\n\" id=\"DejaVuSans-71\"/>\n      <path d=\"M 19.671875 34.8125 \nL 19.671875 8.109375 \nL 35.5 8.109375 \nQ 43.453125 8.109375 47.28125 11.40625 \nQ 51.125 14.703125 51.125 21.484375 \nQ 51.125 28.328125 47.28125 31.5625 \nQ 43.453125 34.8125 35.5 34.8125 \nz\nM 19.671875 64.796875 \nL 19.671875 42.828125 \nL 34.28125 42.828125 \nQ 41.5 42.828125 45.03125 45.53125 \nQ 48.578125 48.25 48.578125 53.8125 \nQ 48.578125 59.328125 45.03125 62.0625 \nQ 41.5 64.796875 34.28125 64.796875 \nz\nM 9.8125 72.90625 \nL 35.015625 72.90625 \nQ 46.296875 72.90625 52.390625 68.21875 \nQ 58.5 63.53125 58.5 54.890625 \nQ 58.5 48.1875 55.375 44.234375 \nQ 52.25 40.28125 46.1875 39.3125 \nQ 53.46875 37.75 57.5 32.78125 \nQ 61.53125 27.828125 61.53125 20.40625 \nQ 61.53125 10.640625 54.890625 5.3125 \nQ 48.25 0 35.984375 0 \nL 9.8125 0 \nz\n\" id=\"DejaVuSans-66\"/>\n     </defs>\n     <use xlink:href=\"#DejaVuSans-70\"/>\n     <use x=\"52.019531\" xlink:href=\"#DejaVuSans-101\"/>\n     <use x=\"113.542969\" xlink:href=\"#DejaVuSans-97\"/>\n     <use x=\"174.822266\" xlink:href=\"#DejaVuSans-116\"/>\n     <use x=\"214.03125\" xlink:href=\"#DejaVuSans-117\"/>\n     <use x=\"277.410156\" xlink:href=\"#DejaVuSans-114\"/>\n     <use x=\"316.273438\" xlink:href=\"#DejaVuSans-101\"/>\n     <use x=\"377.796875\" xlink:href=\"#DejaVuSans-115\"/>\n     <use x=\"429.896484\" xlink:href=\"#DejaVuSans-32\"/>\n     <use x=\"461.683594\" xlink:href=\"#DejaVuSans-105\"/>\n     <use x=\"489.466797\" xlink:href=\"#DejaVuSans-109\"/>\n     <use x=\"586.878906\" xlink:href=\"#DejaVuSans-112\"/>\n     <use x=\"650.355469\" xlink:href=\"#DejaVuSans-111\"/>\n     <use x=\"711.537109\" xlink:href=\"#DejaVuSans-114\"/>\n     <use x=\"752.650391\" xlink:href=\"#DejaVuSans-116\"/>\n     <use x=\"791.859375\" xlink:href=\"#DejaVuSans-97\"/>\n     <use x=\"853.138672\" xlink:href=\"#DejaVuSans-110\"/>\n     <use x=\"916.517578\" xlink:href=\"#DejaVuSans-99\"/>\n     <use x=\"971.498047\" xlink:href=\"#DejaVuSans-101\"/>\n     <use x=\"1033.021484\" xlink:href=\"#DejaVuSans-32\"/>\n     <use x=\"1064.808594\" xlink:href=\"#DejaVuSans-45\"/>\n     <use x=\"1100.892578\" xlink:href=\"#DejaVuSans-32\"/>\n     <use x=\"1132.679688\" xlink:href=\"#DejaVuSans-88\"/>\n     <use x=\"1201.185547\" xlink:href=\"#DejaVuSans-71\"/>\n     <use x=\"1278.675781\" xlink:href=\"#DejaVuSans-66\"/>\n     <use x=\"1347.279297\" xlink:href=\"#DejaVuSans-111\"/>\n     <use x=\"1408.460938\" xlink:href=\"#DejaVuSans-111\"/>\n     <use x=\"1469.642578\" xlink:href=\"#DejaVuSans-115\"/>\n     <use x=\"1521.742188\" xlink:href=\"#DejaVuSans-116\"/>\n    </g>\n   </g>\n  </g>\n </g>\n <defs>\n  <clipPath id=\"p39b4a7720e\">\n   <rect height=\"271.8\" width=\"446.4\" x=\"148.673438\" y=\"22.318125\"/>\n  </clipPath>\n </defs>\n</svg>\n",
      "image/png": "[encoded data removed]"
     },
     "metadata": {
      "needs_background": "light"
     }
    }
   ],
   "source": [
    "# Graph that\n",
    "y_true = y_test\n",
    "y_pred_xgb = y_hat_xgb[:,0]\n",
    "\n",
    "fig, (ax) = plt.subplots(ncols=1, figsize=(8,5))\n",
    "plot_importance(xgb, height=0.8, title=\"Features importance - XGBoost\", ax=ax, color=\"blue\") \n",
    "plt.show()"
   ]
  },
  {
   "cell_type": "code",
   "execution_count": null,
   "metadata": {},
   "outputs": [],
   "source": [
    "xgb.plot_tree(xg_reg,num_trees=0)\n",
    "plt.rcParams['figure.figsize'] = [50, 10]\n",
    "plt.show()  "
   ]
  },
  {
   "cell_type": "code",
   "execution_count": 172,
   "metadata": {},
   "outputs": [],
   "source": [
    "# Save the model (XGBoost)\n",
    "xgb.save_model('./model.bst')"
   ]
  },
  {
   "source": [
    "**Model Serialization**\n",
    "\n",
    "Sci-kit learn's default serialization mechanism is the 'pickle' library, which saves a binary model representation to disk.\n",
    "Load the model using:\n",
    "```PYTHON\n",
    "loaded_model = pickle.load(open(filename, 'rb'))\n",
    "result = loaded_model.score(X_test, Y_test)\n",
    "print(result)\n",
    "```\n"
   ],
   "cell_type": "markdown",
   "metadata": {}
  },
  {
   "cell_type": "code",
   "execution_count": 174,
   "metadata": {},
   "outputs": [],
   "source": [
    "# Save model (Pickle)\n",
    "pickle.dump(xgb, open('model.pkl', 'wb'))"
   ]
  },
  {
   "cell_type": "code",
   "execution_count": null,
   "metadata": {},
   "outputs": [],
   "source": []
  }
 ]
}