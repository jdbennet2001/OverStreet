{
 "metadata": {
  "language_info": {
   "codemirror_mode": {
    "name": "ipython",
    "version": 3
   },
   "file_extension": ".py",
   "mimetype": "text/x-python",
   "name": "python",
   "nbconvert_exporter": "python",
   "pygments_lexer": "ipython3",
   "version": "3.9.0"
  },
  "orig_nbformat": 2,
  "kernelspec": {
   "name": "python390jvsc74a57bd0aee8b7b246df8f9039afb4144a1f6fd8d2ca17a180786b69acc140d282b71a49",
   "display_name": "Python 3.9.0 64-bit"
  }
 },
 "nbformat": 4,
 "nbformat_minor": 2,
 "cells": [
  {
   "cell_type": "code",
   "execution_count": 1,
   "metadata": {},
   "outputs": [],
   "source": [
    "import numpy as np\n",
    "import pandas as pd\n",
    "import matplotlib as plt\n",
    "import json"
   ]
  },
  {
   "cell_type": "code",
   "execution_count": 2,
   "metadata": {},
   "outputs": [
    {
     "output_type": "execute_result",
     "data": {
      "text/plain": [
       "                                               comic  \\\n",
       "0  New X-Men #127 (2002-08-01) - Of Living and Dy...   \n",
       "1  New X-Men #127 (2002-08-01) - Of Living and Dy...   \n",
       "2  New X-Men #127 (2002-08-01) - Of Living and Dy...   \n",
       "3  New X-Men #127 (2002-08-01) - Of Living and Dy...   \n",
       "4  New X-Men #127 (2002-08-01) - Of Living and Dy...   \n",
       "\n",
       "                                            location  pages  match  distance  \\\n",
       "0  /Volumes/LocalDASD/comics/Marvel/X-Men/New X-M...     21  False    0.6250   \n",
       "1  /Volumes/LocalDASD/comics/Marvel/X-Men/New X-M...     21  False    0.6250   \n",
       "2  /Volumes/LocalDASD/comics/Marvel/X-Men/New X-M...     21  False    0.5625   \n",
       "3  /Volumes/LocalDASD/comics/Marvel/X-Men/New X-M...     21  False    0.5625   \n",
       "4  /Volumes/LocalDASD/comics/Marvel/X-Men/New X-M...     21   True    0.1875   \n",
       "\n",
       "       id              hash                 name  \\\n",
       "0  398293  b3b39a9c95928ec3                 None   \n",
       "1  742156  3c3c979c8d97b8e4                 None   \n",
       "2  292444  b3b21b9397328d92                 None   \n",
       "3  280906  bfac8793972d39a9     Nuova Serie n.29   \n",
       "4   78331  b2bc979397adb1ec  Of Living and Dying   \n",
       "\n",
       "                                         description  \\\n",
       "0                                                      \n",
       "1            <p>Translates Ultimate X-Men #24-25</p>   \n",
       "2              <p>Translates New X-Men #153-154.</p>   \n",
       "3  <p>Collects : Iceman (2001) #02,03 -  New X-Me...   \n",
       "4  <p><i>In an attempt to familiarize himself in ...   \n",
       "\n",
       "                                               image  ... issue_number  \\\n",
       "0  https://comicvine1.cbsistatic.com/uploads/scal...  ...            8   \n",
       "1  https://comicvine1.cbsistatic.com/uploads/scal...  ...           13   \n",
       "2  https://comicvine1.cbsistatic.com/uploads/scal...  ...          111   \n",
       "3  https://comicvine1.cbsistatic.com/uploads/scal...  ...          153   \n",
       "4  https://comicvine1.cbsistatic.com/uploads/scal...  ...          127   \n",
       "\n",
       "                                                 url  cover_date volume_id  \\\n",
       "0  https://comicvine.gamespot.com/x-men-hors-seri...  2002-06-21   60220.0   \n",
       "1  https://comicvine.gamespot.com/ultimate-x-men-...  2003-12-01  125803.0   \n",
       "2  https://comicvine.gamespot.com/new-x-men-111/4...  2005-06-30   42777.0   \n",
       "3  https://comicvine.gamespot.com/gli-incredibili...  2003-03-01   41460.0   \n",
       "4  https://comicvine.gamespot.com/new-x-men-127-o...  2002-08-01    9121.0   \n",
       "\n",
       "             volume_name      publisher volume_start  \\\n",
       "0       X-Men Hors Série  Panini Comics       2001.0   \n",
       "1         Ultimate X-Men   Cómics Forum       2002.0   \n",
       "2              New X-Men  Panini Comics       2005.0   \n",
       "3  Gli Incredibili X-Men  Panini Comics       2002.0   \n",
       "4              New X-Men         Marvel       2001.0   \n",
       "\n",
       "                                        volume_image  \\\n",
       "0  https://comicvine1.cbsistatic.com/uploads/scal...   \n",
       "1  https://comicvine1.cbsistatic.com/uploads/scal...   \n",
       "2  https://comicvine1.cbsistatic.com/uploads/scal...   \n",
       "3  https://comicvine1.cbsistatic.com/uploads/scal...   \n",
       "4  https://comicvine1.cbsistatic.com/uploads/scal...   \n",
       "\n",
       "                                          volume_url volume_count_of_issues  \n",
       "0  https://comicvine.gamespot.com/x-men-hors-seri...                   28.0  \n",
       "1  https://comicvine.gamespot.com/ultimate-x-men/...                   25.0  \n",
       "2  https://comicvine.gamespot.com/new-x-men/4050-...                   12.0  \n",
       "3  https://comicvine.gamespot.com/gli-incredibili...                  365.0  \n",
       "4  https://comicvine.gamespot.com/new-x-men/4050-...                   43.0  \n",
       "\n",
       "[5 rows x 21 columns]"
      ],
      "text/html": "<div>\n<style scoped>\n    .dataframe tbody tr th:only-of-type {\n        vertical-align: middle;\n    }\n\n    .dataframe tbody tr th {\n        vertical-align: top;\n    }\n\n    .dataframe thead th {\n        text-align: right;\n    }\n</style>\n<table border=\"1\" class=\"dataframe\">\n  <thead>\n    <tr style=\"text-align: right;\">\n      <th></th>\n      <th>comic</th>\n      <th>location</th>\n      <th>pages</th>\n      <th>match</th>\n      <th>distance</th>\n      <th>id</th>\n      <th>hash</th>\n      <th>name</th>\n      <th>description</th>\n      <th>image</th>\n      <th>...</th>\n      <th>issue_number</th>\n      <th>url</th>\n      <th>cover_date</th>\n      <th>volume_id</th>\n      <th>volume_name</th>\n      <th>publisher</th>\n      <th>volume_start</th>\n      <th>volume_image</th>\n      <th>volume_url</th>\n      <th>volume_count_of_issues</th>\n    </tr>\n  </thead>\n  <tbody>\n    <tr>\n      <th>0</th>\n      <td>New X-Men #127 (2002-08-01) - Of Living and Dy...</td>\n      <td>/Volumes/LocalDASD/comics/Marvel/X-Men/New X-M...</td>\n      <td>21</td>\n      <td>False</td>\n      <td>0.6250</td>\n      <td>398293</td>\n      <td>b3b39a9c95928ec3</td>\n      <td>None</td>\n      <td></td>\n      <td>https://comicvine1.cbsistatic.com/uploads/scal...</td>\n      <td>...</td>\n      <td>8</td>\n      <td>https://comicvine.gamespot.com/x-men-hors-seri...</td>\n      <td>2002-06-21</td>\n      <td>60220.0</td>\n      <td>X-Men Hors Série</td>\n      <td>Panini Comics</td>\n      <td>2001.0</td>\n      <td>https://comicvine1.cbsistatic.com/uploads/scal...</td>\n      <td>https://comicvine.gamespot.com/x-men-hors-seri...</td>\n      <td>28.0</td>\n    </tr>\n    <tr>\n      <th>1</th>\n      <td>New X-Men #127 (2002-08-01) - Of Living and Dy...</td>\n      <td>/Volumes/LocalDASD/comics/Marvel/X-Men/New X-M...</td>\n      <td>21</td>\n      <td>False</td>\n      <td>0.6250</td>\n      <td>742156</td>\n      <td>3c3c979c8d97b8e4</td>\n      <td>None</td>\n      <td>&lt;p&gt;Translates Ultimate X-Men #24-25&lt;/p&gt;</td>\n      <td>https://comicvine1.cbsistatic.com/uploads/scal...</td>\n      <td>...</td>\n      <td>13</td>\n      <td>https://comicvine.gamespot.com/ultimate-x-men-...</td>\n      <td>2003-12-01</td>\n      <td>125803.0</td>\n      <td>Ultimate X-Men</td>\n      <td>Cómics Forum</td>\n      <td>2002.0</td>\n      <td>https://comicvine1.cbsistatic.com/uploads/scal...</td>\n      <td>https://comicvine.gamespot.com/ultimate-x-men/...</td>\n      <td>25.0</td>\n    </tr>\n    <tr>\n      <th>2</th>\n      <td>New X-Men #127 (2002-08-01) - Of Living and Dy...</td>\n      <td>/Volumes/LocalDASD/comics/Marvel/X-Men/New X-M...</td>\n      <td>21</td>\n      <td>False</td>\n      <td>0.5625</td>\n      <td>292444</td>\n      <td>b3b21b9397328d92</td>\n      <td>None</td>\n      <td>&lt;p&gt;Translates New X-Men #153-154.&lt;/p&gt;</td>\n      <td>https://comicvine1.cbsistatic.com/uploads/scal...</td>\n      <td>...</td>\n      <td>111</td>\n      <td>https://comicvine.gamespot.com/new-x-men-111/4...</td>\n      <td>2005-06-30</td>\n      <td>42777.0</td>\n      <td>New X-Men</td>\n      <td>Panini Comics</td>\n      <td>2005.0</td>\n      <td>https://comicvine1.cbsistatic.com/uploads/scal...</td>\n      <td>https://comicvine.gamespot.com/new-x-men/4050-...</td>\n      <td>12.0</td>\n    </tr>\n    <tr>\n      <th>3</th>\n      <td>New X-Men #127 (2002-08-01) - Of Living and Dy...</td>\n      <td>/Volumes/LocalDASD/comics/Marvel/X-Men/New X-M...</td>\n      <td>21</td>\n      <td>False</td>\n      <td>0.5625</td>\n      <td>280906</td>\n      <td>bfac8793972d39a9</td>\n      <td>Nuova Serie n.29</td>\n      <td>&lt;p&gt;Collects : Iceman (2001) #02,03 -  New X-Me...</td>\n      <td>https://comicvine1.cbsistatic.com/uploads/scal...</td>\n      <td>...</td>\n      <td>153</td>\n      <td>https://comicvine.gamespot.com/gli-incredibili...</td>\n      <td>2003-03-01</td>\n      <td>41460.0</td>\n      <td>Gli Incredibili X-Men</td>\n      <td>Panini Comics</td>\n      <td>2002.0</td>\n      <td>https://comicvine1.cbsistatic.com/uploads/scal...</td>\n      <td>https://comicvine.gamespot.com/gli-incredibili...</td>\n      <td>365.0</td>\n    </tr>\n    <tr>\n      <th>4</th>\n      <td>New X-Men #127 (2002-08-01) - Of Living and Dy...</td>\n      <td>/Volumes/LocalDASD/comics/Marvel/X-Men/New X-M...</td>\n      <td>21</td>\n      <td>True</td>\n      <td>0.1875</td>\n      <td>78331</td>\n      <td>b2bc979397adb1ec</td>\n      <td>Of Living and Dying</td>\n      <td>&lt;p&gt;&lt;i&gt;In an attempt to familiarize himself in ...</td>\n      <td>https://comicvine1.cbsistatic.com/uploads/scal...</td>\n      <td>...</td>\n      <td>127</td>\n      <td>https://comicvine.gamespot.com/new-x-men-127-o...</td>\n      <td>2002-08-01</td>\n      <td>9121.0</td>\n      <td>New X-Men</td>\n      <td>Marvel</td>\n      <td>2001.0</td>\n      <td>https://comicvine1.cbsistatic.com/uploads/scal...</td>\n      <td>https://comicvine.gamespot.com/new-x-men/4050-...</td>\n      <td>43.0</td>\n    </tr>\n  </tbody>\n</table>\n<p>5 rows × 21 columns</p>\n</div>"
     },
     "metadata": {},
     "execution_count": 2
    }
   ],
   "source": [
    "patients_df = pd.read_json('samples.json')\n",
    "patients_df.head()"
   ]
  },
  {
   "cell_type": "code",
   "execution_count": null,
   "metadata": {},
   "outputs": [],
   "source": []
  }
 ]
}